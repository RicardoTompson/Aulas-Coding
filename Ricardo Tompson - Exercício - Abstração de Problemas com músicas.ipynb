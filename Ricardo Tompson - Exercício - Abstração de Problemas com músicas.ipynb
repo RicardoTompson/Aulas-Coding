{
 "cells": [
  {
   "cell_type": "markdown",
   "metadata": {},
   "source": [
    "VIVA MARIANA"
   ]
  },
  {
   "cell_type": "code",
   "execution_count": 35,
   "metadata": {},
   "outputs": [
    {
     "name": "stdout",
     "output_type": "stream",
     "text": [
      "\n",
      "Mariana conta 1 \n",
      "Mariana conta 1: é 1, é 1, é! \n",
      "Ana, viva a Mariana, viva a Mariana\n",
      "\n",
      "Mariana conta 2\n",
      "Mariana conta 2 : é 1,  é 2,  é!\n",
      "Ana, viva a Mariana, viva a Mariana\n",
      "\n",
      "Mariana conta 3\n",
      "Mariana conta 3 : é 1,  é 2,  é 3,  é!\n",
      "Ana, viva a Mariana, viva a Mariana\n",
      "\n",
      "Mariana conta 4\n",
      "Mariana conta 4 : é 1,  é 2,  é 3,  é 4,  é!\n",
      "Ana, viva a Mariana, viva a Mariana\n",
      "\n",
      "Mariana conta 5\n",
      "Mariana conta 5 : é 1,  é 2,  é 3,  é 4,  é 5,  é!\n",
      "Ana, viva a Mariana, viva a Mariana\n",
      "\n",
      "Mariana conta 6\n",
      "Mariana conta 6 : é 1,  é 2,  é 3,  é 4,  é 5,  é 6,  é!\n",
      "Ana, viva a Mariana, viva a Mariana\n",
      "\n",
      "Mariana conta 7\n",
      "Mariana conta 7 : é 1,  é 2,  é 3,  é 4,  é 5,  é 6,  é 7,  é!\n",
      "Ana, viva a Mariana, viva a Mariana\n",
      "\n",
      "Mariana conta 8\n",
      "Mariana conta 8 : é 1,  é 2,  é 3,  é 4,  é 5,  é 6,  é 7,  é 8,  é!\n",
      "Ana, viva a Mariana, viva a Mariana\n",
      "\n",
      "Mariana conta 9\n",
      "Mariana conta 9 : é 1,  é 2,  é 3,  é 4,  é 5,  é 6,  é 7,  é 8,  é 9,  é!\n",
      "Ana, viva a Mariana, viva a Mariana\n",
      "\n",
      "Mariana conta 10\n",
      "Mariana conta 10 : é 1,  é 2,  é 3,  é 4,  é 5,  é 6,  é 7,  é 8,  é 9,  é 10,  é!\n",
      "Ana, viva a Mariana, viva a Mariana\n"
     ]
    }
   ],
   "source": [
    "for numero1 in range (1, 11):\n",
    "    if numero1 == 1:\n",
    "        print('\\nMariana conta 1 \\nMariana conta 1: é 1, é 1, é! \\nAna, viva a Mariana, viva a Mariana')\n",
    "    else:\n",
    "        print('\\nMariana conta', numero1)\n",
    "        print('Mariana conta',numero1,':', end = '') \n",
    "        for numero2 in range (1, numero1+1):\n",
    "            print(f' é {numero2}, ', end = '')\n",
    "        print(\" é!\")\n",
    "        print('Ana, viva a Mariana, viva a Mariana')"
   ]
  },
  {
   "cell_type": "markdown",
   "metadata": {},
   "source": [
    "UM ELEFANTE INCOMODA"
   ]
  },
  {
   "cell_type": "code",
   "execution_count": null,
   "metadata": {},
   "outputs": [],
   "source": []
  }
 ],
 "metadata": {
  "kernelspec": {
   "display_name": "Python 3",
   "language": "python",
   "name": "python3"
  },
  "language_info": {
   "codemirror_mode": {
    "name": "ipython",
    "version": 3
   },
   "file_extension": ".py",
   "mimetype": "text/x-python",
   "name": "python",
   "nbconvert_exporter": "python",
   "pygments_lexer": "ipython3",
   "version": "3.10.11"
  }
 },
 "nbformat": 4,
 "nbformat_minor": 2
}
