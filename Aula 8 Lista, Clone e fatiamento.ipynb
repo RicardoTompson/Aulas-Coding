{
 "cells": [
  {
   "cell_type": "markdown",
   "metadata": {},
   "source": [
    "PRIMEIRO CONTATO COM LISTA: Criação e acesso a itens."
   ]
  },
  {
   "cell_type": "code",
   "execution_count": 2,
   "metadata": {},
   "outputs": [],
   "source": [
    "L=[]\n",
    "L=list() # construtor de listas"
   ]
  },
  {
   "cell_type": "markdown",
   "metadata": {},
   "source": [
    "LISTA COM 3 ELEMENTOS:"
   ]
  },
  {
   "cell_type": "code",
   "execution_count": 3,
   "metadata": {},
   "outputs": [
    {
     "data": {
      "text/plain": [
       "3"
      ]
     },
     "execution_count": 3,
     "metadata": {},
     "output_type": "execute_result"
    }
   ],
   "source": [
    "dias=[3,1,10]\n",
    "dias[0]\n",
    "# '3' valor impresso."
   ]
  },
  {
   "cell_type": "code",
   "execution_count": 4,
   "metadata": {},
   "outputs": [
    {
     "data": {
      "text/plain": [
       "10"
      ]
     },
     "execution_count": 4,
     "metadata": {},
     "output_type": "execute_result"
    }
   ],
   "source": [
    "dias[1]\n",
    "dias[2]"
   ]
  },
  {
   "cell_type": "code",
   "execution_count": 5,
   "metadata": {},
   "outputs": [
    {
     "data": {
      "text/plain": [
       "[7, 8, 9]"
      ]
     },
     "execution_count": 5,
     "metadata": {},
     "output_type": "execute_result"
    }
   ],
   "source": [
    "#lista\n",
    "Z=[3,8,9]\n",
    "Z[0]=7\n",
    "# imprima \"Z\".\n",
    "Z\n",
    "# '[7,8,9]' lista impressa."
   ]
  },
  {
   "cell_type": "code",
   "execution_count": 7,
   "metadata": {},
   "outputs": [
    {
     "data": {
      "text/plain": [
       "[6, 7, 5, 8, 9]"
      ]
     },
     "execution_count": 7,
     "metadata": {},
     "output_type": "execute_result"
    }
   ],
   "source": [
    "# Valor seria o valor de \"Z\"?\n",
    "V=[6,7,5,8,9]\n",
    "Z=V\n",
    "Z\n"
   ]
  },
  {
   "cell_type": "markdown",
   "metadata": {},
   "source": [
    "CRIA UM CLONE COM FATIA:"
   ]
  },
  {
   "cell_type": "code",
   "execution_count": 8,
   "metadata": {},
   "outputs": [
    {
     "name": "stdout",
     "output_type": "stream",
     "text": [
      "True\n",
      "False\n",
      "[81, 82, 83]\n",
      "[5, 82, 83]\n"
     ]
    }
   ],
   "source": [
    "#lista\n",
    "a=[81,82,83]\n",
    "b=a[:] # cria um clone com fatia / Se b=a \"iguala todos os valores e torna-se True\"\n",
    "# imprima\n",
    "print(a==b)\n",
    "print(a is b)\n",
    "b[0]=5\n",
    "# imprima\n",
    "print(a)\n",
    "print(b)"
   ]
  },
  {
   "cell_type": "markdown",
   "metadata": {},
   "source": [
    "FATIAMENTO DE LISTAS"
   ]
  },
  {
   "cell_type": "code",
   "execution_count": 9,
   "metadata": {},
   "outputs": [
    {
     "name": "stdout",
     "output_type": "stream",
     "text": [
      "['b', 'c']\n",
      "['a', 'b', 'c', 'd']\n",
      "['d', 'e', 'f']\n",
      "['a', 'b', 'c', 'd', 'e', 'f']\n"
     ]
    }
   ],
   "source": [
    "# Mini desafio, O que seria impresso?\n",
    "uma_list=['a','b','c','d','e','f']\n",
    "print(uma_list[1:3])\n",
    "print(uma_list[:4])\n",
    "print(uma_list[3:])\n",
    "print(uma_list[:])\n"
   ]
  },
  {
   "cell_type": "markdown",
   "metadata": {},
   "source": [
    "PRATICAR LISTAS"
   ]
  },
  {
   "cell_type": "markdown",
   "metadata": {},
   "source": [
    "1) O que seria impresso na seguinte sequência de documento?"
   ]
  },
  {
   "cell_type": "code",
   "execution_count": 1,
   "metadata": {},
   "outputs": [
    {
     "ename": "IndexError",
     "evalue": "list index out of range",
     "output_type": "error",
     "traceback": [
      "\u001b[1;31m---------------------------------------------------------------------------\u001b[0m",
      "\u001b[1;31mIndexError\u001b[0m                                Traceback (most recent call last)",
      "Cell \u001b[1;32mIn [1], line 5\u001b[0m\n\u001b[0;32m      3\u001b[0m b\u001b[38;5;241m=\u001b[39ma[:]\n\u001b[0;32m      4\u001b[0m b[\u001b[38;5;241m0\u001b[39m]\n\u001b[1;32m----> 5\u001b[0m \u001b[38;5;28mprint\u001b[39m(\u001b[43ma\u001b[49m\u001b[43m[\u001b[49m\u001b[38;5;241;43m3\u001b[39;49m\u001b[43m]\u001b[49m)\n",
      "\u001b[1;31mIndexError\u001b[0m: list index out of range"
     ]
    }
   ],
   "source": [
    "# lista\n",
    "a=[1,2,3]\n",
    "b=a[:]\n",
    "b[0]\n",
    "print(a[3])\n",
    "\n",
    "# IndexError: list index out of range --> Erro proposital\n",
    "\n"
   ]
  },
  {
   "cell_type": "markdown",
   "metadata": {},
   "source": [
    "1) RESOLUÇÃO:\n"
   ]
  },
  {
   "cell_type": "markdown",
   "metadata": {},
   "source": [
    "2) Cria uma lita chamada minhaLista com os seguintes itens: 76, 92,3, \"oi\", True , 4, 76. Depois execute os seguintes comandos:\n",
    "a)Inserir \"pitomba\" e 76 no final da lista.\n",
    "b)Inserir o valor \"Cibele\" na posição de índice 3.\n",
    "c)Inserir o valor 99 no índice da lista\n",
    "d)Encontrar o índice de \"oi\".\n",
    "e)Remover True da lista. "
   ]
  },
  {
   "cell_type": "code",
   "execution_count": 4,
   "metadata": {},
   "outputs": [
    {
     "name": "stdout",
     "output_type": "stream",
     "text": [
      "[76, 92.3, 'oi', True, 4, 76, 'pitoma', 76]\n"
     ]
    }
   ],
   "source": [
    "#a)Inserir \"pitomba\" e 76 no final da lista.\n",
    "minhaLista=[76, 92.3, \"oi\", True, 4, 76]\n",
    "minhaLista1=[\"pitoma\", 76]\n",
    "print(minhaLista+minhaLista1)"
   ]
  },
  {
   "cell_type": "code",
   "execution_count": 5,
   "metadata": {},
   "outputs": [
    {
     "name": "stdout",
     "output_type": "stream",
     "text": [
      "[76, 92.3, 'oi', 'Cibele', 4, 76]\n"
     ]
    }
   ],
   "source": [
    "#b)Inserir o valor \"Cibele\" na posição de índice 3.\n",
    "minhaLista=[76, 92.3, \"oi\", True, 4, 76]\n",
    "minhaLista[3]=\"Cibele\"\n",
    "print(minhaLista)"
   ]
  },
  {
   "cell_type": "code",
   "execution_count": 13,
   "metadata": {},
   "outputs": [
    {
     "name": "stdout",
     "output_type": "stream",
     "text": [
      "[99, 76, 92.3, 'oi', True, 4, 76]\n"
     ]
    }
   ],
   "source": [
    "#c)Inserir o valor 99 no índice da lista\n",
    "minhaLista=[76, 92.3, \"oi\", True, 4, 76]\n",
    "minhaLista2=[99]\n",
    "print(minhaLista2[:]+ minhaLista[:])"
   ]
  },
  {
   "cell_type": "code",
   "execution_count": 18,
   "metadata": {},
   "outputs": [
    {
     "name": "stdout",
     "output_type": "stream",
     "text": [
      "Índice: 2  é 'oi'\n"
     ]
    }
   ],
   "source": [
    "#d)Encontrar o índice de \"oi\".\n",
    "minhaLista=[76, 92.3, \"oi\", True, 4, 76]\n",
    "\n",
    "if (minhaLista[0]==\"oi\"):\n",
    "    print(\"Índice: 0 é'oi'.\")\n",
    "elif (minhaLista[1]==\"oi\"):\n",
    "    print(\"Índice: 1 é 'oi'.\")\n",
    "elif (minhaLista[2]==\"oi\"):\n",
    "    print(\"Índice: 2  é 'oi'.\")\n",
    "elif (minhaLista[3]==\"oi\"):\n",
    "    print(\"Índice: 3  é 'oi'.\")\n",
    "elif (minhaLista[4]==\"oi\"):\n",
    "    print(\"Índice: 4  é 'oi'.\")\n",
    "elif (minhaLista[5]==\"oi\"):\n",
    "    print(\"Índice: 5  é 'oi'.\")\n",
    "else:\n",
    "    print(\"não existe o índice com o elemento 'oi' \")"
   ]
  },
  {
   "cell_type": "code",
   "execution_count": 14,
   "metadata": {},
   "outputs": [
    {
     "name": "stdout",
     "output_type": "stream",
     "text": [
      "[76, 92.3, 'oi', 4, 76]\n"
     ]
    }
   ],
   "source": [
    "#e)Remover True da lista. \n",
    "minhaLista=[76, 92.3, \"oi\", True, 4, 76]\n",
    "print(minhaLista[:3]+minhaLista[4:])\n"
   ]
  },
  {
   "cell_type": "markdown",
   "metadata": {},
   "source": [
    "2) O que é impresso pelo trecho de código a seguir? \n"
   ]
  },
  {
   "cell_type": "code",
   "execution_count": 19,
   "metadata": {},
   "outputs": [
    {
     "name": "stdout",
     "output_type": "stream",
     "text": [
      "[4.2, 8, 6, 5, 'Cibele']\n"
     ]
    }
   ],
   "source": [
    "#lista\n",
    "uma_lista=[4.2,8,6,5]\n",
    "#adicionando 'Cibele'.\n",
    "uma_lista=uma_lista + [\"Cibele\"]\n",
    "#imprima.\n",
    "print(uma_lista)\n"
   ]
  }
 ],
 "metadata": {
  "kernelspec": {
   "display_name": "Python 3",
   "language": "python",
   "name": "python3"
  },
  "language_info": {
   "codemirror_mode": {
    "name": "ipython",
    "version": 3
   },
   "file_extension": ".py",
   "mimetype": "text/x-python",
   "name": "python",
   "nbconvert_exporter": "python",
   "pygments_lexer": "ipython3",
   "version": "3.10.11"
  }
 },
 "nbformat": 4,
 "nbformat_minor": 2
}
