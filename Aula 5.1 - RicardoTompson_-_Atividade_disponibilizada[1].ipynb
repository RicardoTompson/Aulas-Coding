{
 "cells": [
  {
   "cell_type": "markdown",
   "metadata": {},
   "source": [
    "6) FAÇA UM PROGRAMA QUE PEÇA 2 NÚMEROS INTEIROS E UM NÚMERO REAL. CALCULE E MOSTRE:"
   ]
  },
  {
   "cell_type": "markdown",
   "metadata": {},
   "source": [
    "A) O produto do dobro do primeiro com a metade do segundo."
   ]
  },
  {
   "cell_type": "code",
   "execution_count": 12,
   "metadata": {},
   "outputs": [
    {
     "name": "stdout",
     "output_type": "stream",
     "text": [
      "\n",
      "Primeiro valor: 2 \n",
      "Segundo Valor: 5 \n",
      "Resultado: 200.0\n"
     ]
    }
   ],
   "source": [
    "#Peça ao usuário o primeiro valor inteiro\n",
    "primeiroValor = int(input('Digite o Primeiro valor: '))\n",
    "#Peça ao usuário o segundo valor inteiro\n",
    "segundoValor = int(input('digite o seundo valor: '))\n",
    "#Peça ao usuário o segundo valor real\n",
    "terceiroValor = float(input('digite o terceiro valor: '))\n",
    "#Mostre o cálculo para o resultado\n",
    "resultadoA = (2*primeiroValor)*(segundoValor/2)\n",
    "#Imprima na tela o Resultado obtido do cálculo\n",
    "print('\\nPrimeiro valor:', primeiroValor, '\\nSegundo Valor:', segundoValor, '\\nResultado:',  resultado)\n",
    "\n"
   ]
  },
  {
   "cell_type": "markdown",
   "metadata": {},
   "source": [
    "B) A soma do triplo do primeiro com o terceiro. O terceiro elevado ao cubo."
   ]
  },
  {
   "cell_type": "code",
   "execution_count": 16,
   "metadata": {},
   "outputs": [
    {
     "name": "stdout",
     "output_type": "stream",
     "text": [
      "\n",
      "O resultado: 33.0\n"
     ]
    }
   ],
   "source": [
    "#Calcule a soma do triplo do Primeiro valor digitado com Terceiro valor, elevando ao cubo.\n",
    "resultadoB = 3*primeiroValor+(terceiroValor**3)\n",
    "#Imprima na tela o valor do resultado B\n",
    "print('\\nO resultado:', resultadoB)"
   ]
  },
  {
   "cell_type": "markdown",
   "metadata": {},
   "source": [
    "7) FAÇA UM PROGRAMA QUE PEÇA DOIS NÚMEROS E IMPRIMA O MAIOR DELES."
   ]
  },
  {
   "cell_type": "code",
   "execution_count": 22,
   "metadata": {},
   "outputs": [
    {
     "name": "stdout",
     "output_type": "stream",
     "text": [
      "O segundo número é maior.\n"
     ]
    }
   ],
   "source": [
    "#Peça ao usuário que informe o 1° valor declarado.\n",
    "primeiroNumero = float(input('Informe o 1° número: '))\n",
    "#Peça ao usuário que informe o 2° valor declarado.\n",
    "segundoNumero = float(input('Informe o 2° número: '))\n",
    "#Condicione se o valor digitado é maior ou menor que o segundo valor digitado.\n",
    "if(primeiroNumero>segundoNumero):\n",
    "    print('O primeiro número é maior.')\n",
    "elif(primeiroNumero<segundoNumero):\n",
    "    print('O segundo número é maior.')\n",
    "else: \n",
    "    print('Os valores são iguai.')\n",
    "          "
   ]
  },
  {
   "cell_type": "markdown",
   "metadata": {},
   "source": [
    "8) FAÇA UM PROGRAMA QUE PEÇA UM VALOR E MOSTRE NA TELA SE O VALOR É POSITIVO OU NEGATIVO."
   ]
  },
  {
   "cell_type": "code",
   "execution_count": 25,
   "metadata": {},
   "outputs": [
    {
     "name": "stdout",
     "output_type": "stream",
     "text": [
      "5.0 Valor informado é Positivo\n"
     ]
    }
   ],
   "source": [
    "#Peça ao usuário que digite um valor.\n",
    "valorDigitado = float(input('Informe o valor Digitado: '))\n",
    "#Condicione se o valor digitado é positivo ou negativo.\n",
    "if(valorDigitado>0):\n",
    "    print(valorDigitado, 'Valor informado é Positivo')\n",
    "elif(valorDigitado<0):\n",
    "    print(valorDigitado, 'Valor informado é Negativo')\n",
    "else:\n",
    "    print(valorDigitado, 'é nulo')"
   ]
  },
  {
   "cell_type": "markdown",
   "metadata": {},
   "source": [
    "9) FAÇA UM PROGRAMA PARA A LEITURA DE DUAS NOTAS PARCIAIS DE UM ALUNO. O PROGRAMA DEVE CALCULAR A MÉDIA ALCANÇADA POR ALUNO E APRESENTAR RESULTADO \"APROVADO\" OU \"REPROVADO\". CONSIDERE AQUE A ESCOLA ADOTA MÉDIA 7,00."
   ]
  },
  {
   "cell_type": "code",
   "execution_count": 33,
   "metadata": {},
   "outputs": [
    {
     "name": "stdout",
     "output_type": "stream",
     "text": [
      "O aluno foi Aprovado!\n",
      "\n",
      "1° Nota: 5.0 \n",
      "2° Nota: 9.0 \n",
      "A média: 7.0\n"
     ]
    }
   ],
   "source": [
    "#Peça ao usuário a 1° nota do aluno\n",
    "primeiraNota = float(input('Informe a 1° Nota: '))\n",
    "#Peça ao usuário a 2° nota do aluno\n",
    "segundaNota = float(input('Informe a 2° Nota: '))\n",
    "#Calcule a média obtida\n",
    "media=(primeiraNota+segundaNota)/2\n",
    "\n",
    "if(media>=7):\n",
    "    print('O aluno foi Aprovado!')\n",
    "else:\n",
    "    print(\"O aluno foi Reprovado.\")\n",
    "#Imprima na tela \n",
    "print('\\n1° Nota:', primeiraNota, '\\n2° Nota:', segundaNota, '\\nA média:', media)"
   ]
  },
  {
   "cell_type": "markdown",
   "metadata": {},
   "source": [
    "10) FAÇA UM PROGRAMA QUE LEIA TRÊS NÚMEROS E MOSTRE O MAIOR DELES."
   ]
  },
  {
   "cell_type": "code",
   "execution_count": 15,
   "metadata": {},
   "outputs": [
    {
     "name": "stdout",
     "output_type": "stream",
     "text": [
      "\n",
      "O 3° número é o maior dentre os 3 valores digitados.\n",
      "\n",
      "NÚMEROS DIGITADOS: \n",
      "Num1: 2.0 \n",
      "Num2: 5.0 \n",
      "Num3: 8.0\n"
     ]
    }
   ],
   "source": [
    "#Peça ao usuário a 1° número.\n",
    "num1 = float(input('Digite o 1° número: '))\n",
    "#Peça ao usuário a 2° número.\n",
    "num2 = float(input('Digite o 2° número: '))\n",
    "#Peça ao usuário a 3° número.\n",
    "num3 = float(input('Digite o 3° número: '))\n",
    "#Condicione dentre os 3 valores digitados qual é o maior.\n",
    "if(num1>num2 and num1>num3):\n",
    "    print('\\nO 1° número é maior dentre os 3 valores digitados.')\n",
    "elif(num2>num1 and num2>num3):\n",
    "    print('\\nO 2° número é maior dentre os 3 valores digitados.')\n",
    "else:\n",
    "    print('\\nO 3° número é o maior dentre os 3 valores digitados.')\n",
    "\n",
    "#Imprima os valores digitados.\n",
    "print('\\nNÚMEROS DIGITADOS:','\\nNum1:', num1, '\\nNum2:', num2, '\\nNum3:', num3)"
   ]
  }
 ],
 "metadata": {
  "kernelspec": {
   "display_name": "Python 3",
   "language": "python",
   "name": "python3"
  },
  "language_info": {
   "codemirror_mode": {
    "name": "ipython",
    "version": 3
   },
   "file_extension": ".py",
   "mimetype": "text/x-python",
   "name": "python",
   "nbconvert_exporter": "python",
   "pygments_lexer": "ipython3",
   "version": "3.11.8"
  }
 },
 "nbformat": 4,
 "nbformat_minor": 2
}
