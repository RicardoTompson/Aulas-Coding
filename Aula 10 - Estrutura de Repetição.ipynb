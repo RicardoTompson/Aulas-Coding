{
 "cells": [
  {
   "cell_type": "markdown",
   "metadata": {},
   "source": [
    "AULA 10 - ESTRUTURA DE REPETIÇÃO"
   ]
  },
  {
   "cell_type": "markdown",
   "metadata": {},
   "source": [
    "ESTRUTURA DE REPETIÇÃO - FOR"
   ]
  },
  {
   "cell_type": "code",
   "execution_count": 2,
   "metadata": {},
   "outputs": [],
   "source": [
    "# Estrutura \"for\" com 'range' nos elementos.\n",
    "for produto in range(0, 4):\n",
    "# Declarando \n",
    "    p = str(input(\"Digite o nome do produto: \"))\n",
    "    v = float(input(\"Digite o valor do produto: \"))"
   ]
  },
  {
   "cell_type": "code",
   "execution_count": null,
   "metadata": {},
   "outputs": [],
   "source": [
    "# Estrutura \"for\" sem elementos.\n",
    "for():\n",
    "# Impressão sem elementos.\n",
    "    print()"
   ]
  },
  {
   "cell_type": "code",
   "execution_count": 3,
   "metadata": {},
   "outputs": [
    {
     "name": "stdout",
     "output_type": "stream",
     "text": [
      "Estamos no elemnto 1\n",
      "Estamos no elemnto 2\n",
      "Estamos no elemnto 3\n",
      "Estamos no elemnto 4\n",
      "Estamos no elemnto 5\n",
      "Estamos no elemnto 6\n"
     ]
    }
   ],
   "source": [
    "# Declarando o elemento '1,2,3,4,5,6' no for.\n",
    "for elemento in [1,2,3,4,5,6]:\n",
    "# Impressão dos elementos números declarados.\n",
    "    print('Estamos no elemnto', elemento)"
   ]
  },
  {
   "cell_type": "code",
   "execution_count": 4,
   "metadata": {},
   "outputs": [
    {
     "name": "stdout",
     "output_type": "stream",
     "text": [
      "Estamos no elemnto S\n",
      "Estamos no elemnto T\n",
      "Estamos no elemnto R\n",
      "Estamos no elemnto I\n",
      "Estamos no elemnto N\n",
      "Estamos no elemnto G\n"
     ]
    }
   ],
   "source": [
    "# Declarando o elemento 'STRING' no for.\n",
    "for elemento in 'STRING':\n",
    "# Impressão dos elementos String.\n",
    "    print('Estamos no elemnto', elemento)"
   ]
  },
  {
   "cell_type": "code",
   "execution_count": 6,
   "metadata": {},
   "outputs": [
    {
     "name": "stdout",
     "output_type": "stream",
     "text": [
      "Estamos no elemento  0\n",
      "Estamos no elemento  1\n",
      "Estamos no elemento  2\n",
      "Estamos no elemento  3\n",
      "Estamos no elemento  4\n",
      "Estamos no elemento  5\n"
     ]
    }
   ],
   "source": [
    "# Declarando o elemento 'STRING' no for com 'len'. \n",
    "for elemento in range(len(\"STRING\")):\n",
    "# Impressão dos elementos String.\n",
    "    print('Estamos no elemento ', elemento)"
   ]
  },
  {
   "cell_type": "markdown",
   "metadata": {},
   "source": [
    "ESTRUTURA DE REPETIÇÃO - WHILE"
   ]
  },
  {
   "cell_type": "code",
   "execution_count": 8,
   "metadata": {},
   "outputs": [],
   "source": [
    "produto = 0 # incicialização.\n",
    "while produto < 4: # condição.\n",
    "# Corpo do Loop.\n",
    "    p = str(input(\"Digite o nome do produto: \"))\n",
    "    v = float(input(\"Digite o valor do produto: \"))\n",
    "    produto +=1 # incremento"
   ]
  },
  {
   "cell_type": "markdown",
   "metadata": {},
   "source": [
    "QUAL O RESULTADO DOS SEGUINTES COMANDOS:"
   ]
  },
  {
   "cell_type": "code",
   "execution_count": 9,
   "metadata": {},
   "outputs": [
    {
     "name": "stdout",
     "output_type": "stream",
     "text": [
      "Estamos no elemento  0\n",
      "Estamos no elemento  1\n",
      "Estamos no elemento  2\n",
      "Estamos no elemento  3\n",
      "Estamos no elemento  4\n",
      "Estamos no elemento  5\n",
      "Estamos no elemento  6\n"
     ]
    }
   ],
   "source": [
    "elemento = 0 # Contadora.\n",
    "# Estrutura While\n",
    "while elemento <= len ([1, 2, 3, 4, 5, 6]):\n",
    "    print('Estamos no elemento ', elemento) # Impressão dos elementos declarados.\n",
    "    elemento +=1 # Ao inserir esse código evita o loop infinito. "
   ]
  },
  {
   "cell_type": "code",
   "execution_count": 10,
   "metadata": {},
   "outputs": [
    {
     "name": "stdout",
     "output_type": "stream",
     "text": [
      "Estamos no elemento  S\n",
      "Estamos no elemento  T\n",
      "Estamos no elemento  R\n",
      "Estamos no elemento  I\n",
      "Estamos no elemento  N\n",
      "Estamos no elemento  G\n"
     ]
    }
   ],
   "source": [
    "# Declaração da variável \"s\" como 'STRING'.\n",
    "s = 'STRING'\n",
    "indice = 0 # Contadora.\n",
    "\n",
    "while indice in range (len(s)):\n",
    "    print('Estamos no elemento ', s[indice]) # Impressão da lista guardada.\n",
    "    indice+=1 # Ao inserir esse código evita o loop infinito."
   ]
  },
  {
   "cell_type": "markdown",
   "metadata": {},
   "source": [
    "FUNÇÃO ENUMERATE()"
   ]
  },
  {
   "cell_type": "code",
   "execution_count": 11,
   "metadata": {},
   "outputs": [
    {
     "name": "stdout",
     "output_type": "stream",
     "text": [
      "0 t\n",
      "1 r\n",
      "2 a\n",
      "3 n\n",
      "4 q\n",
      "5 u\n",
      "6 i\n",
      "7 l\n",
      "8 o\n"
     ]
    }
   ],
   "source": [
    "# Declarando a palavra 'tranquilo'\n",
    "palavra='tranquilo'\n",
    "# Estrutura for com 'enumerate' de palavras.\n",
    "for indice, letra in enumerate(palavra):\n",
    "    # Impressão da lista guardada. \n",
    "    print (indice, letra)"
   ]
  },
  {
   "cell_type": "markdown",
   "metadata": {},
   "source": [
    "QUIZ"
   ]
  },
  {
   "cell_type": "markdown",
   "metadata": {},
   "source": [
    "1) Quantas vezes a palavra 'Oi' é impressa pelos seguintes comandos?"
   ]
  },
  {
   "cell_type": "code",
   "execution_count": 13,
   "metadata": {},
   "outputs": [
    {
     "name": "stdout",
     "output_type": "stream",
     "text": [
      "Oi\n",
      "Oi\n",
      "Oi\n",
      "Oi\n",
      "Oi\n",
      "Oi\n",
      "Oi\n",
      "Oi\n",
      "Oi\n",
      "Oi\n",
      "Oi\n",
      "Oi\n",
      "Oi\n"
     ]
    }
   ],
   "source": [
    "# Declaração da variável 's' como \"viva o python\".\n",
    "s= \"viva o python\"\n",
    "for ch in s: # Declaração do 'for' e da variável.\n",
    "    print(\"Oi\") # impressão da palavra."
   ]
  },
  {
   "cell_type": "markdown",
   "metadata": {},
   "source": [
    "1) Quantas vezes a palavra 'Oi' é impressa pelos seguintes comandos?"
   ]
  },
  {
   "cell_type": "code",
   "execution_count": 14,
   "metadata": {},
   "outputs": [
    {
     "name": "stdout",
     "output_type": "stream",
     "text": [
      "Oi\n",
      "Oi\n",
      "Oi\n",
      "Oi\n",
      "Oi\n"
     ]
    }
   ],
   "source": [
    "# Declaração da variável 's' como \"viva o python\".\n",
    "s= \"viva o python\"\n",
    "for ch in s[3:8]: # Declaração do 'for' e do intervalo.\n",
    "    print(\"Oi\") # impressão da palavra oi diante do intervalo determinado."
   ]
  },
  {
   "cell_type": "markdown",
   "metadata": {},
   "source": [
    "DESAFIO"
   ]
  },
  {
   "cell_type": "markdown",
   "metadata": {},
   "source": [
    "1) FAÇA UM PROGRAMA QUE PEÇA 10 NÚMEROS INTEIROS, CALCULE E MOSTRE A QUANTIDADE DE NÚMEROS PARES E A QUANTIDADE DE NÚMEROS ÍMPARES."
   ]
  },
  {
   "cell_type": "code",
   "execution_count": 28,
   "metadata": {},
   "outputs": [
    {
     "name": "stdout",
     "output_type": "stream",
     "text": [
      "Número de Pares:  1\n",
      "Número de Imparesares:  9\n"
     ]
    }
   ],
   "source": [
    "par = 0 # Contadora.\n",
    "impar = 0 # Contadora.\n",
    "\n",
    "for numero in range  (10): # Estrutura de repetição \"for\"\n",
    "   numero = int(input(\"Digite o valor do produto: \")) # Usuário declara os valores digitando os números.\n",
    "   if numero%2 == 0: \n",
    "      par +=1 # incremento.\n",
    "   else:\n",
    "      impar +=1 # incremento.\n",
    "# Impressão da contagem de números \"pares\" e \"ímpares\".\n",
    "print('Número de Pares: ', par) \n",
    "print('Número de Imparesares: ', impar) \n"
   ]
  }
 ],
 "metadata": {
  "kernelspec": {
   "display_name": "Python 3",
   "language": "python",
   "name": "python3"
  },
  "language_info": {
   "codemirror_mode": {
    "name": "ipython",
    "version": 3
   },
   "file_extension": ".py",
   "mimetype": "text/x-python",
   "name": "python",
   "nbconvert_exporter": "python",
   "pygments_lexer": "ipython3",
   "version": "3.10.11"
  }
 },
 "nbformat": 4,
 "nbformat_minor": 2
}
