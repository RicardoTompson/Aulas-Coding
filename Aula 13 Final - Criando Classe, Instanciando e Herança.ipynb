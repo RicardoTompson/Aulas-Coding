{
 "cells": [
  {
   "cell_type": "markdown",
   "metadata": {},
   "source": [
    "APONTANDO PARA O OBJETO ATUAL"
   ]
  },
  {
   "cell_type": "code",
   "execution_count": 1,
   "metadata": {},
   "outputs": [],
   "source": [
    "class Animal():\n",
    "    # Construtor da classe\n",
    "    def __init__(self, name, weight, color):\n",
    "        #atributos\n",
    "        self.nome = name\n",
    "        self.peso = weight\n",
    "        self.corDoPelo = color\n",
    "\n",
    "    def imprimindosDados(self):\n",
    "        return (\"Nome: %s \\nPeso: %s \" %(self.nome, self.peso))\n",
    "    \n",
    "    def latir(self, barulho):\n",
    "        print(barulho)"
   ]
  },
  {
   "cell_type": "markdown",
   "metadata": {},
   "source": [
    "INSTANCIANDO"
   ]
  },
  {
   "cell_type": "code",
   "execution_count": 2,
   "metadata": {},
   "outputs": [
    {
     "name": "stdout",
     "output_type": "stream",
     "text": [
      "Nome: Marlene \n",
      "Peso: 7.9 \n",
      "Au Au!\n",
      "Nome: Cibele \n",
      "Peso: 4.5 \n",
      "Miau!\n"
     ]
    }
   ],
   "source": [
    "# instacioando um objeto cachorro\n",
    "caozinho = Animal (\"Marlene\", 7.9, \"Caramelo\")\n",
    "gato = Animal (\"Cibele\", 4.5, \"Cinza\")\n",
    "\n",
    "# Chamando o método do objeto criado\n",
    "print(caozinho.imprimindosDados())\n",
    "caozinho.latir(\"Au Au!\")\n",
    "\n",
    "print(gato.imprimindosDados())\n",
    "gato.latir(\"Miau!\")"
   ]
  },
  {
   "cell_type": "markdown",
   "metadata": {},
   "source": [
    "CRIANDO CLASSE LIVRO"
   ]
  },
  {
   "cell_type": "code",
   "execution_count": 3,
   "metadata": {},
   "outputs": [],
   "source": [
    "class Livro():\n",
    "    def __init__(self):\n",
    "        self.titulo = \"O Monge e o Executivo\"\n",
    "        self.isbn = 9988888\n",
    "        print(\"Construtor chamado para criar um objetivo desta classe\")\n",
    "    def imprimir(self):\n",
    "        print(\"Foi criado o Livro %s e ISBN %d\" %(self.titulo, self.isbn))"
   ]
  },
  {
   "cell_type": "code",
   "execution_count": 4,
   "metadata": {},
   "outputs": [
    {
     "name": "stdout",
     "output_type": "stream",
     "text": [
      "Construtor chamado para criar um objetivo desta classe\n"
     ]
    }
   ],
   "source": [
    "Livro1 = Livro()"
   ]
  },
  {
   "cell_type": "code",
   "execution_count": 5,
   "metadata": {},
   "outputs": [
    {
     "data": {
      "text/plain": [
       "__main__.Livro"
      ]
     },
     "execution_count": 5,
     "metadata": {},
     "output_type": "execute_result"
    }
   ],
   "source": [
    "type(Livro1)"
   ]
  },
  {
   "cell_type": "code",
   "execution_count": 15,
   "metadata": {},
   "outputs": [
    {
     "data": {
      "text/plain": [
       "'O Monge e o Executivo'"
      ]
     },
     "execution_count": 15,
     "metadata": {},
     "output_type": "execute_result"
    }
   ],
   "source": [
    "Livro1.titulo"
   ]
  },
  {
   "cell_type": "code",
   "execution_count": 7,
   "metadata": {},
   "outputs": [
    {
     "name": "stdout",
     "output_type": "stream",
     "text": [
      "Foi criado o Livro O Monge e o Executivo e ISBN 9988888\n"
     ]
    }
   ],
   "source": [
    "Livro1.imprimir()"
   ]
  },
  {
   "cell_type": "code",
   "execution_count": 13,
   "metadata": {},
   "outputs": [],
   "source": [
    "class Livro():\n",
    "    def __init__(self, titulo, isbn):\n",
    "        self.titulo = titulo\n",
    "        self.isbn = isbn\n",
    "    def imprimirDados(self):\n",
    "        print(\"Construtor chamado para criar um objetivo desta classe\")\n",
    "    \n",
    "    def imprimir(self, titulo, isbn):\n",
    "        print(\"Foi Criado o Livro %s e ISBN %d\" %(titulo, isbn))"
   ]
  },
  {
   "cell_type": "code",
   "execution_count": 9,
   "metadata": {},
   "outputs": [],
   "source": [
    "Livro2 = Livro (\"A Menina que Roubava Livros\", 77886611)"
   ]
  },
  {
   "cell_type": "code",
   "execution_count": 10,
   "metadata": {},
   "outputs": [],
   "source": [
    "class Pessoa ():\n",
    "    def __init__(self, name, age): # Variáveis da função\n",
    "        self.nome=name #atributos da classe\n",
    "        self.idade=age #atributos da classe\n",
    "    \n",
    "    def nascimento(self, idade): # Variáveis da função\n",
    "        return (2022-idade) # retorna o ano que a pessoa nasceu"
   ]
  },
  {
   "cell_type": "code",
   "execution_count": 11,
   "metadata": {},
   "outputs": [
    {
     "data": {
      "text/plain": [
       "1987"
      ]
     },
     "execution_count": 11,
     "metadata": {},
     "output_type": "execute_result"
    }
   ],
   "source": [
    "pessoa1 = Pessoa (\"Maria\", 35) # criando um objeto a partir da classe\n",
    "pessoa1.nome # chamando um atributo do objeto\n",
    "pessoa1.idade # chamando um atributo do objeto\n",
    "pessoa1.nascimento(35) #chamando um método do objeto"
   ]
  },
  {
   "cell_type": "code",
   "execution_count": 12,
   "metadata": {},
   "outputs": [
    {
     "name": "stdout",
     "output_type": "stream",
     "text": [
      "Nome: Alex, idade: 21 \n",
      "Nome: Breno, idade: 22 \n",
      "Nome: Carla, idade: 23 \n",
      "Nome: Ricardo, idade: 36 \n",
      "Nome: Rafaela, idade: 27 \n"
     ]
    }
   ],
   "source": [
    "listaDePessoas = [] #criando lista vazia\n",
    "for i in range (5): #frequência de repetição do loop for, segundo a \n",
    "    nome = str(input(\"Nome: \")) #entrada de dados\n",
    "    idade = int(input(\"Idade: \")) #entrada de dados\n",
    "    pessoa = Pessoa(nome, idade) # criando objeto pessoa com a calma\n",
    "    listaDePessoas.append(pessoa) # cada elemento da lista é um objeto\n",
    "\n",
    "for objeto in range (len(listaDePessoas)): #acessando cada objeto\n",
    "#acessando os atributos nome e idade de cada objeto\n",
    "    print(\"Nome: %s, idade: %d \" % (listaDePessoas[objeto].nome, listaDePessoas[objeto].idade))"
   ]
  }
 ],
 "metadata": {
  "kernelspec": {
   "display_name": "Python 3",
   "language": "python",
   "name": "python3"
  },
  "language_info": {
   "codemirror_mode": {
    "name": "ipython",
    "version": 3
   },
   "file_extension": ".py",
   "mimetype": "text/x-python",
   "name": "python",
   "nbconvert_exporter": "python",
   "pygments_lexer": "ipython3",
   "version": "3.11.9"
  }
 },
 "nbformat": 4,
 "nbformat_minor": 2
}
