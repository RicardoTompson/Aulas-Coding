{
 "cells": [
  {
   "cell_type": "markdown",
   "metadata": {},
   "source": [
    "Questão 1:FAÇA UM PROGRAMA QUE PEÇA UM NÚMERO E ENTÃO MOSTRE A MENSAGEM \"O NÚMERO INFORMADO FOI\" SEGUIDA DO NÚMERO. "
   ]
  },
  {
   "cell_type": "code",
   "execution_count": 21,
   "metadata": {},
   "outputs": [
    {
     "name": "stdout",
     "output_type": "stream",
     "text": [
      "O número informado foi 25.0\n"
     ]
    }
   ],
   "source": [
    "#Solicita ao usário o primeiro valor;\n",
    "primeiroNumero = float(input('Digite o primeiro valor: '))\n",
    "#imprima na tela o valor digitado pelo usuário;\n",
    "print('O número informado foi',primeiroNumero)"
   ]
  },
  {
   "cell_type": "markdown",
   "metadata": {},
   "source": [
    "Questão 2: FAÇA UM PROGRAMA QUE PEÇA DOIS NÚMEROS E IMPRIMA SOMA."
   ]
  },
  {
   "cell_type": "code",
   "execution_count": 7,
   "metadata": {},
   "outputs": [
    {
     "name": "stdout",
     "output_type": "stream",
     "text": [
      "A soma de 2.0 + 4.0 = 6.0\n"
     ]
    }
   ],
   "source": [
    "#Solicitar ao usuário o primeiro valor;\n",
    "primeiroNumero = float(input('Digite o primeiro valor: '))\n",
    "#Solicitar ao usuário o segundo valor;\n",
    "segundoNumero = float(input('Digite o segundo valor: '))\n",
    "#Declare o variável \"resultado\" e somando o primeiro valor com segundo valor;\n",
    "resultado = primeiroNumero+segundoNumero\n",
    "#Imprima na tela o resultado;\n",
    "print('A soma de', primeiroNumero, '+', segundoNumero, '=', resultado)"
   ]
  },
  {
   "cell_type": "markdown",
   "metadata": {},
   "source": [
    "Questão 3: FAÇA UM PROGRAMA QUE PEÇA 3 NOTAS E MOSTRE A MÉDIA. "
   ]
  },
  {
   "cell_type": "code",
   "execution_count": 11,
   "metadata": {},
   "outputs": [
    {
     "name": "stdout",
     "output_type": "stream",
     "text": [
      "\n",
      "A Primeira Nota: 8.0 \n",
      "A Segunda Nota: 8.5 \n",
      "A Terceira Nota: 9.0 \n",
      "A média: 8.5\n"
     ]
    }
   ],
   "source": [
    "#Solicitar ao usuário o primeiro valor;\n",
    "primeiraNota = float(input('Digite o primeiro valor: '))\n",
    "#Solicitar ao usuário o segundo valor;\n",
    "segundaNota = float(input('Digite o segunda valor: '))\n",
    "#Solicitar ao usuário o terceiro valor;\n",
    "terceiraNota = float(input('Digite o terceiro valor: '))\n",
    "#Calcule a média somando os valores e depois dividindo pela quantidade dos elementos informado;\n",
    "media = (primeiraNota + segundaNota + terceiraNota)/3\n",
    "#Imprima na tela a média;\n",
    "print('\\nA Primeira Nota:', primeiraNota, '\\nA Segunda Nota:', segundaNota, '\\nA Terceira Nota:', terceiraNota, '\\nA média:', media )\n"
   ]
  },
  {
   "cell_type": "markdown",
   "metadata": {},
   "source": [
    "Questão 4: FAÇA UM PROGRAMA QUE PERMITE QUANTO VOCÊ GANHA POR HORA E O NÚMERO DE HORAS TRABALHADAS NO MÊS. CALCULE E MOSTRE O TOTAL DO SEU SALÁRIO NO REFERIDO MÊS.  "
   ]
  },
  {
   "cell_type": "code",
   "execution_count": 19,
   "metadata": {},
   "outputs": [
    {
     "name": "stdout",
     "output_type": "stream",
     "text": [
      "O meu salário é de 5000.0\n"
     ]
    }
   ],
   "source": [
    "#Solicite ao usuário o valor por hora;\n",
    "valorPorHora = float(input('Qual o valor por Hora?' ))\n",
    "#Solicite ao usuário a quantidades trabalhadas por mês\n",
    "qtdDeHoras =  float(input('Quantas horas foram trabalhadas no mês? '))\n",
    "#Declare a variável \"Total Do Salário\" e Calcule o valor do 'Valor da Hora' * 'Quantidades de Horas';\n",
    "totalDoSalario = valorPorHora*qtdDeHoras\n",
    "#Imprima na tela o total do salário do usuário; \n",
    "print('O meu salário é de', totalDoSalario)"
   ]
  },
  {
   "cell_type": "markdown",
   "metadata": {},
   "source": [
    "Questão 5: Desafio!"
   ]
  },
  {
   "cell_type": "code",
   "execution_count": 20,
   "metadata": {},
   "outputs": [
    {
     "name": "stdout",
     "output_type": "stream",
     "text": [
      "====================================================\n",
      "====================================================\n",
      "================ PESCADOS RECIFE ===================\n",
      "====================================================\n",
      "====================================================\n",
      "\n",
      "Quantidade pescado: 55.0 Kg \n",
      "Quantidade excedida: 5.0 \n",
      "Multa: 20.0 reais\n"
     ]
    }
   ],
   "source": [
    "\n",
    "print(\"====================================================\")\n",
    "print(\"====================================================\")\n",
    "print(\"================ PESCADOS RECIFE ===================\")\n",
    "print(\"====================================================\")\n",
    "print(\"====================================================\")\n",
    "\n",
    "#Pergunte o valor do peso ao usuário\n",
    "pesoKg = float(input('Quantos quilos foram pescados? '))\n",
    "#calcular o excesso\n",
    "excesso = pesoKg - 50\n",
    "#Calcular a multa\n",
    "multa = excesso *4.00\n",
    "#Imprima na tela os dados do programa com as mensagens para alerta a João;\n",
    "print('\\nQuantidade pescado:', pesoKg,'Kg', '\\nQuantidade excedida:', excesso, '\\nMulta:', multa,'reais')\n",
    "\n"
   ]
  }
 ],
 "metadata": {
  "kernelspec": {
   "display_name": "Python 3",
   "language": "python",
   "name": "python3"
  },
  "language_info": {
   "codemirror_mode": {
    "name": "ipython",
    "version": 3
   },
   "file_extension": ".py",
   "mimetype": "text/x-python",
   "name": "python",
   "nbconvert_exporter": "python",
   "pygments_lexer": "ipython3",
   "version": "3.10.11"
  }
 },
 "nbformat": 4,
 "nbformat_minor": 2
}
