{
 "cells": [
  {
   "cell_type": "markdown",
   "metadata": {},
   "source": [
    "TRABALHANDO A INDENTAÇÃO"
   ]
  },
  {
   "cell_type": "code",
   "execution_count": null,
   "metadata": {},
   "outputs": [],
   "source": [
    "if(): \n",
    "elif():\n",
    "elif():\n",
    "else:"
   ]
  },
  {
   "cell_type": "code",
   "execution_count": null,
   "metadata": {},
   "outputs": [],
   "source": [
    "if(1==1): #mensagem no primeiro nível.\n",
    "    print()"
   ]
  },
  {
   "cell_type": "markdown",
   "metadata": {},
   "source": [
    "PRÁTICA ACUMULADA: DESAFIO"
   ]
  },
  {
   "cell_type": "markdown",
   "metadata": {},
   "source": [
    "1- Forma:"
   ]
  },
  {
   "cell_type": "code",
   "execution_count": 31,
   "metadata": {},
   "outputs": [
    {
     "name": "stdout",
     "output_type": "stream",
     "text": [
      "Ficarei em casa assistindo Netflix\n"
     ]
    }
   ],
   "source": [
    "#Peça ao usuário que informe sobre o tempo de hoje: Sol ou Chuva\n",
    "tempoHoje = input('Como está o dia hoje Sol ou Chuva? ')\n",
    "#Peça ao usuário que informe se tem dinheiro: sim ou não\n",
    "tenhoDinheiro = input('Você tem dinheiro sim ou não?')\n",
    "#condicione se o tempo for dia e se o usuário tem dinheiro ou não.\n",
    "if(tempoHoje =='Sol' and tenhoDinheiro=='sim'):\n",
    "    #imprima na tela 'Irei a prova\"\n",
    "    print('Irei a Praia')\n",
    "else:\n",
    "    #imprima na tela 'Ficarei assistindo Netflix\"\n",
    "    print('Ficarei em casa assistindo Netflix')"
   ]
  },
  {
   "cell_type": "markdown",
   "metadata": {},
   "source": [
    "2- Forma:"
   ]
  },
  {
   "cell_type": "code",
   "execution_count": 21,
   "metadata": {},
   "outputs": [
    {
     "name": "stdout",
     "output_type": "stream",
     "text": [
      "Ficarei em casa assistindo Netflix\n"
     ]
    }
   ],
   "source": [
    "#Peça ao usuário que informe sobre o tempo de hoje: Sol ou Chuva.\n",
    "tempoHoje = input('Como está o dia hoje Sol ou Chuva? ')\n",
    "#condicione se o tempo for dia e se o usuário tem dinheiro ou não.\n",
    "if(tempoHoje =='Sol'):\n",
    "    #Peça ao usuário que informe se tem dinheiro: sim ou não.\n",
    "    tenhoDinheiro = input('Você tem dinheiro \"sim\" ou \"não\"?')\n",
    "    if(tenhoDinheiro=='sim'):\n",
    "        #imprima na tela 'Irei a prova\".\n",
    "        print('Irei a Praia')\n",
    "    else:\n",
    "        #imprima na tela 'Ficarei assistindo Netflix\".\n",
    "        print('Ficarei em casa assistindo Netflix')\n",
    "else:\n",
    "    #imprima na tela 'Ficarei assistindo Netflix\".\n",
    "    print('Ficarei em casa assistindo Netflix')"
   ]
  },
  {
   "cell_type": "markdown",
   "metadata": {},
   "source": [
    "3- Forma:"
   ]
  },
  {
   "cell_type": "code",
   "execution_count": 28,
   "metadata": {},
   "outputs": [
    {
     "name": "stdout",
     "output_type": "stream",
     "text": [
      "Ficarei em casa assistindo Netflix\n"
     ]
    }
   ],
   "source": [
    "#Peça ao usuário que digite 0 ou 1 para saber sobre o tempo de hoje: \n",
    "tempoHoje = input('Como está o dia hoje Digite 0 para dia de Sol ou  digite 1 se o dia for de Chuva\"? ')\n",
    "\n",
    "#condicione se for digitado 1 o dia será de Sol ou se 0 for digitado o dia é dia chuva.\n",
    "if(tempoHoje =='1'):\n",
    "    #Peça ao usuário que informe se tem dinheiro: sim ou não.\n",
    "    tenhoDinheiro = input('Você tem dinheiro \"0\" ou \"1\"?')\n",
    "    #condicione se for digitado 0 o usuário tem dinheiro ou se digitado 1 fo digitado o usuário não tem dinheiro.\n",
    "    if(tenhoDinheiro=='1'):\n",
    "        #imprima na tela 'Irei a prova\".\n",
    "        print('Irei a Praia')\n",
    "    else:\n",
    "        #imprima na tela 'Ficarei assistindo Netflix\".\n",
    "        print('Ficarei em casa assistindo Netflix')\n",
    "else:\n",
    "    #imprima na tela 'Ficarei assistindo Netflix\".\n",
    "    print('Ficarei em casa assistindo Netflix')"
   ]
  }
 ],
 "metadata": {
  "kernelspec": {
   "display_name": "Python 3",
   "language": "python",
   "name": "python3"
  },
  "language_info": {
   "codemirror_mode": {
    "name": "ipython",
    "version": 3
   },
   "file_extension": ".py",
   "mimetype": "text/x-python",
   "name": "python",
   "nbconvert_exporter": "python",
   "pygments_lexer": "ipython3",
   "version": "3.11.9"
  }
 },
 "nbformat": 4,
 "nbformat_minor": 2
}
