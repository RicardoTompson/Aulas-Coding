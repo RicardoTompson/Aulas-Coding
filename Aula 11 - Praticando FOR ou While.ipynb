{
 "cells": [
  {
   "cell_type": "markdown",
   "metadata": {},
   "source": [
    "PRATICANDO COM QUESTÃO: XUXA, RAINHA DOS BAIXINHOS. VOÇÊ PRECISA AUTOMATIZAR A IMPRESSÃO DESSA MÚSICA NO TERMINAL USANDO FOR OU WHILE. OBS: NÃO ADIANTE DE NADA VOCÊ COLOCAR ELA INTEIRA DENTRO DE UM PRINT."
   ]
  },
  {
   "cell_type": "code",
   "execution_count": 52,
   "metadata": {},
   "outputs": [
    {
     "name": "stdout",
     "output_type": "stream",
     "text": [
      "5 patinhos foram passear \n",
      "Além das montanhas para brincar \n",
      "A mamãe gritou: Quá, quá, quá, quá \n",
      "Mas só 4 patinhos voltaram de lá.\n",
      "\n",
      " A mamãe patinha foi procurar \n",
      " Além das montanhas na beira do mar\n",
      " A mamãe gritou: Quá, quá, quá, quá\n",
      " E os 5 patinhos voltaram de lá.\n",
      "4 patinhos foram passear \n",
      "Além das montanhas para brincar \n",
      "A mamãe gritou: Quá, quá, quá, quá \n",
      "Mas só 3 patinhos voltaram de lá.\n",
      "\n",
      " A mamãe patinha foi procurar \n",
      " Além das montanhas na beira do mar\n",
      " A mamãe gritou: Quá, quá, quá, quá\n",
      " E os 5 patinhos voltaram de lá.\n",
      "3 patinhos foram passear \n",
      "Além das montanhas para brincar \n",
      "A mamãe gritou: Quá, quá, quá, quá \n",
      "Mas só 2 patinhos voltaram de lá.\n",
      "\n",
      " A mamãe patinha foi procurar \n",
      " Além das montanhas na beira do mar\n",
      " A mamãe gritou: Quá, quá, quá, quá\n",
      " E os 5 patinhos voltaram de lá.\n",
      "2 patinhos foram passear \n",
      "Além das montanhas para brincar \n",
      "A mamãe gritou: Quá, quá, quá, quá \n",
      "Mas só 1 patinhos voltaram de lá.\n",
      "\n",
      " A mamãe patinha foi procurar \n",
      " Além das montanhas na beira do mar\n",
      " A mamãe gritou: Quá, quá, quá, quá\n",
      " E os 5 patinhos voltaram de lá.\n",
      "1 patinhos foram passear \n",
      "Além das montanhas para brincar \n",
      "A mamãe gritou: Quá, quá, quá, quá \n",
      "Mas só 0 patinhos voltaram de lá.\n",
      "\n",
      " A mamãe patinha foi procurar \n",
      " Além das montanhas na beira do mar\n",
      " A mamãe gritou: Quá, quá, quá, quá\n",
      " E os 5 patinhos voltaram de lá.\n"
     ]
    }
   ],
   "source": [
    "elemento = 5 #Determinando a variável .\n",
    "while elemento <= len ([5,4,3,2,1]): #laço de repetição usando o \"while\".\n",
    "    print(elemento, 'patinhos foram passear', '\\nAlém das montanhas para brincar', '\\nA mamãe gritou: Quá, quá, quá, quá', '\\nMas só', elemento-1,'patinhos voltaram de lá.') #Impressão da letra\n",
    "    print(\"\\n A mamãe patinha foi procurar\",\"\\n Além das montanhas na beira do mar\" \"\\n A mamãe gritou: Quá, quá, quá, quá\" \"\\n E os 5 patinhos voltaram de lá.\")\n",
    "    elemento -=1 #contadora.\n",
    "    if elemento == 0: #Condição.\n",
    "        break # Parada quando valor chegar a Zero"
   ]
  },
  {
   "cell_type": "markdown",
   "metadata": {},
   "source": []
  },
  {
   "cell_type": "code",
   "execution_count": 53,
   "metadata": {},
   "outputs": [
    {
     "name": "stdout",
     "output_type": "stream",
     "text": [
      "5 patinhos foram passear \n",
      "Além das montanhas para brincar \n",
      "A mamãe gritou: Quá, quá, quá, quá \n",
      "Mas só 4 patinhos voltaram de lá.\n",
      "\n",
      " A mamãe patinha foi procurar \n",
      " Além das montanhas na beira do mar\n",
      " A mamãe gritou: Quá, quá, quá, quá\n",
      " E os 5 patinhos voltaram de lá.\n",
      "4 patinhos foram passear \n",
      "Além das montanhas para brincar \n",
      "A mamãe gritou: Quá, quá, quá, quá \n",
      "Mas só 3 patinhos voltaram de lá.\n",
      "\n",
      " A mamãe patinha foi procurar \n",
      " Além das montanhas na beira do mar\n",
      " A mamãe gritou: Quá, quá, quá, quá\n",
      " E os 5 patinhos voltaram de lá.\n",
      "3 patinhos foram passear \n",
      "Além das montanhas para brincar \n",
      "A mamãe gritou: Quá, quá, quá, quá \n",
      "Mas só 2 patinhos voltaram de lá.\n",
      "\n",
      " A mamãe patinha foi procurar \n",
      " Além das montanhas na beira do mar\n",
      " A mamãe gritou: Quá, quá, quá, quá\n",
      " E os 5 patinhos voltaram de lá.\n",
      "2 patinhos foram passear \n",
      "Além das montanhas para brincar \n",
      "A mamãe gritou: Quá, quá, quá, quá \n",
      "Mas só 1 patinhos voltaram de lá.\n",
      "\n",
      " A mamãe patinha foi procurar \n",
      " Além das montanhas na beira do mar\n",
      " A mamãe gritou: Quá, quá, quá, quá\n",
      " E os 5 patinhos voltaram de lá.\n",
      "1 patinhos foram passear \n",
      "Além das montanhas para brincar \n",
      "A mamãe gritou: Quá, quá, quá, quá \n",
      "Mas só 0 patinhos voltaram de lá.\n",
      "\n",
      " A mamãe patinha foi procurar \n",
      " Além das montanhas na beira do mar\n",
      " A mamãe gritou: Quá, quá, quá, quá\n",
      " E os 5 patinhos voltaram de lá.\n"
     ]
    }
   ],
   "source": [
    "elemento = 5 #Determinando a variável .\n",
    "while elemento > 0: #laço de repetição usando o \"while\".\n",
    "    print(elemento, 'patinhos foram passear', '\\nAlém das montanhas para brincar', '\\nA mamãe gritou: Quá, quá, quá, quá', '\\nMas só', elemento-1,'patinhos voltaram de lá.') #Impressão da letra\n",
    "    print(\"\\n A mamãe patinha foi procurar\",\"\\n Além das montanhas na beira do mar\" \"\\n A mamãe gritou: Quá, quá, quá, quá\" \"\\n E os 5 patinhos voltaram de lá.\")\n",
    "    elemento -=1 #contadora."
   ]
  },
  {
   "cell_type": "markdown",
   "metadata": {},
   "source": [
    "FAÇA UM PROGRAMA QUE RECEBA UM NÚMERO E USANDO LAÇOS DE REPETIÇÃO CALCULE E MOSTRE A TABUDA DESSE NÚMERO."
   ]
  },
  {
   "cell_type": "code",
   "execution_count": 51,
   "metadata": {},
   "outputs": [
    {
     "name": "stdout",
     "output_type": "stream",
     "text": [
      "\n",
      " 2 x 0 = 0\n",
      "\n",
      " 2 x 1 = 2\n",
      "\n",
      " 2 x 2 = 4\n",
      "\n",
      " 2 x 3 = 6\n",
      "\n",
      " 2 x 4 = 8\n",
      "\n",
      " 2 x 5 = 10\n",
      "\n",
      " 2 x 6 = 12\n",
      "\n",
      " 2 x 7 = 14\n",
      "\n",
      " 2 x 8 = 16\n",
      "\n",
      " 2 x 9 = 18\n",
      "\n",
      " 2 x 10 = 20\n"
     ]
    }
   ],
   "source": [
    "numero =int(input('Digite um número: ')) # Peça um número ao usuário.\n",
    "for num in range  (11): # Laço de repetição \"FOR\".\n",
    "    print('\\n',numero, 'x', num, '=', num * numero) #Impressão da tabuada.\n"
   ]
  }
 ],
 "metadata": {
  "kernelspec": {
   "display_name": "Python 3",
   "language": "python",
   "name": "python3"
  },
  "language_info": {
   "codemirror_mode": {
    "name": "ipython",
    "version": 3
   },
   "file_extension": ".py",
   "mimetype": "text/x-python",
   "name": "python",
   "nbconvert_exporter": "python",
   "pygments_lexer": "ipython3",
   "version": "3.10.2"
  }
 },
 "nbformat": 4,
 "nbformat_minor": 2
}
