{
 "cells": [
  {
   "cell_type": "markdown",
   "metadata": {},
   "source": [
    "CALCULADORA APRIMORADA\n"
   ]
  },
  {
   "cell_type": "code",
   "execution_count": 1,
   "metadata": {},
   "outputs": [
    {
     "name": "stdout",
     "output_type": "stream",
     "text": [
      "+ ======================== +\n",
      "|  MENU DE OPÇÕES          |\n",
      "|   1 - Somar              |\n",
      "|   2 - Subtrai            |\n",
      "|   3 - Multiplcação       |\n",
      "|   4 - Dividir            |\n",
      "|   0 - Sair               |\n",
      "+ ======================== +\n",
      "Opção inválida! Por favor, escolha uma opção válida no menu de opões.\n",
      "+ ======================== +\n",
      "|  MENU DE OPÇÕES          |\n",
      "|   1 - Somar              |\n",
      "|   2 - Subtrai            |\n",
      "|   3 - Multiplcação       |\n",
      "|   4 - Dividir            |\n",
      "|   0 - Sair               |\n",
      "+ ======================== +\n",
      "O resultado da multiplicação é:  18\n",
      "+ ======================== +\n",
      "|  MENU DE OPÇÕES          |\n",
      "|   1 - Somar              |\n",
      "|   2 - Subtrai            |\n",
      "|   3 - Multiplcação       |\n",
      "|   4 - Dividir            |\n",
      "|   0 - Sair               |\n",
      "+ ======================== +\n"
     ]
    }
   ],
   "source": [
    "def soma(n1, n2): #função Soma\n",
    "  return n1+n2\n",
    "def subtrai(n1, n2): #função Subtrai\n",
    "  return n1-n2\n",
    "def multiplica(n1, n2): #função Multiplica\n",
    "  return n1*n2\n",
    "def divide(n1, n2): #função Divide\n",
    "  return n1/n2\n",
    "\n",
    "while True: # laço de repetição\n",
    "  print(\"+ ======================== +\")\n",
    "  print(\"|  MENU DE OPÇÕES          |\")\n",
    "  print(\"|   1 - Somar              |\")\n",
    "  print(\"|   2 - Subtrair           |\")\n",
    "  print(\"|   3 - Multiplicar        |\")\n",
    "  print(\"|   4 - Dividir            |\")\n",
    "  print(\"|   0 - Sair               |\")\n",
    "  print(\"+ ======================== +\")\n",
    "\n",
    "  lista_num_cadastrado = [1, 2, 3, 4, 0] #lista dos números possíveis\n",
    "  op = int(input())\n",
    "  \n",
    "  if op not in lista_num_cadastrado: # se o número não estiver dentro da lista será impresso como inválido.\n",
    "      print(\"Opção inválida! Por favor, escolha uma opção válida no menu de opões.\")\n",
    "      continue # fará com que o programa continue perguntando.\n",
    "\n",
    "  if op==0: # se o número selecionado for '0' a opção sair do programa será acionada.\n",
    "      break\n",
    "\n",
    "  n1 = int(input(\"Primeiro número: \")) # se o número estiver na lista, os dois 'input' peguntará os valores para serem calculados. \n",
    "  n2 = int(input(\"Segundo número: \"))\n",
    "\n",
    "  if op==1: # se tudo certo, a condicionada será acionada.\n",
    "      print(\"O resultado da soma é: \", soma(n1, n2))\n",
    "  elif op==2:\n",
    "      print(\"O resultado da subtração é: \", subtrai(n1, n2))\n",
    "  elif op==3:\n",
    "      print(\"O resultado da multiplicação é: \", multiplica(n1, n2))\n",
    "  elif op==4:\n",
    "      print(\"O resultado da divisão é: \", divide(n1, n2))"
   ]
  }
 ],
 "metadata": {
  "kernelspec": {
   "display_name": "Python 3",
   "language": "python",
   "name": "python3"
  },
  "language_info": {
   "codemirror_mode": {
    "name": "ipython",
    "version": 3
   },
   "file_extension": ".py",
   "mimetype": "text/x-python",
   "name": "python",
   "nbconvert_exporter": "python",
   "pygments_lexer": "ipython3",
   "version": "3.11.9"
  }
 },
 "nbformat": 4,
 "nbformat_minor": 2
}
