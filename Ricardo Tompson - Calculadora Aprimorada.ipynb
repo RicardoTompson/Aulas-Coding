{
 "cells": [
  {
   "cell_type": "code",
   "execution_count": 3,
   "metadata": {},
   "outputs": [
    {
     "name": "stdout",
     "output_type": "stream",
     "text": [
      "+ ======================== +\n",
      "|  MENU DE OPÇÕES          |\n",
      "|   1 - Somar              |\n",
      "|   2 - Subtrai            |\n",
      "|   3 - Multiplcação       |\n",
      "|   4 - Dividir            |\n",
      "|   0 - Sair               |\n",
      "+ ======================== +\n",
      "+ ======================== +\n",
      "|  MENU DE OPÇÕES          |\n",
      "|   1 - Somar              |\n",
      "|   2 - Subtrai            |\n",
      "|   3 - Multiplcação       |\n",
      "|   4 - Dividir            |\n",
      "|   0 - Sair               |\n",
      "+ ======================== +\n"
     ]
    }
   ],
   "source": [
    "# CALCULADORA\n",
    "\n",
    "def soma(n1, n2): #função Soma\n",
    "  return n1+n2\n",
    "def subtrai(n1, n2): #função Subtrai\n",
    "  return n1-n2\n",
    "def multiplica(n1, n2): #função Multiplca\n",
    "  return n1*n2\n",
    "def divide(n1, n2): #função Divide\n",
    "  return n1/n2\n",
    "\n",
    "while True:\n",
    "  print(\"+ ======================== +\")\n",
    "  print(\"|  MENU DE OPÇÕES          |\")\n",
    "  print(\"|   1 - Somar              |\")\n",
    "  print(\"|   2 - Subtrai            |\")\n",
    "  print(\"|   3 - Multiplcação       |\")\n",
    "  print(\"|   4 - Dividir            |\")\n",
    "  print(\"|   0 - Sair               |\")\n",
    "  print(\"+ ======================== +\")\n",
    "\n",
    "  lista_num_cadastrado = [1, 2, 3, 4, 0]\n",
    "  op = int(input())\n",
    "  if op==0:\n",
    "      break\n",
    "  \n",
    "\n",
    "  n1 = int(input(\"Primeiro número: \"))\n",
    "  n2 = int(input(\"Segundo número: \"))\n",
    "\n",
    "  if op==1:\n",
    "      print(\"O resultado da soma é: \", soma(n1, n2))\n",
    "  elif op==2:\n",
    "      print(\"O resultado da subtrai é: \", subtrai(n1, n2))\n",
    "  elif op==3:\n",
    "      print(\"O resultado da multiplicação é: \", multiplica(n1, n2))\n",
    "  elif op==4:\n",
    "      print(\"O resultado da divide é: \", divide(n1, n2))"
   ]
  },
  {
   "cell_type": "markdown",
   "metadata": {},
   "source": [
    "TESTE\n"
   ]
  },
  {
   "cell_type": "code",
   "execution_count": 1,
   "metadata": {},
   "outputs": [
    {
     "name": "stdout",
     "output_type": "stream",
     "text": [
      "+ ======================== +\n",
      "|  MENU DE OPÇÕES          |\n",
      "|   1 - Somar              |\n",
      "|   2 - Subtrai            |\n",
      "|   3 - Multiplcação       |\n",
      "|   4 - Dividir            |\n",
      "|   0 - Sair               |\n",
      "+ ======================== +\n",
      "Opção inválida. Por favor, escolha uma opção do menu.\n",
      "+ ======================== +\n",
      "|  MENU DE OPÇÕES          |\n",
      "|   1 - Somar              |\n",
      "|   2 - Subtrai            |\n",
      "|   3 - Multiplcação       |\n",
      "|   4 - Dividir            |\n",
      "|   0 - Sair               |\n",
      "+ ======================== +\n",
      "O resultado da soma é:  5\n",
      "+ ======================== +\n",
      "|  MENU DE OPÇÕES          |\n",
      "|   1 - Somar              |\n",
      "|   2 - Subtrai            |\n",
      "|   3 - Multiplcação       |\n",
      "|   4 - Dividir            |\n",
      "|   0 - Sair               |\n",
      "+ ======================== +\n"
     ]
    }
   ],
   "source": [
    "def soma(n1, n2): #função Soma\n",
    "  return n1+n2\n",
    "def subtrai(n1, n2): #função Subtrai\n",
    "  return n1-n2\n",
    "def multiplica(n1, n2): #função Multiplca\n",
    "  return n1*n2\n",
    "def divide(n1, n2): #função Divide\n",
    "  return n1/n2\n",
    "\n",
    "while True:\n",
    "  print(\"+ ======================== +\")\n",
    "  print(\"|  MENU DE OPÇÕES          |\")\n",
    "  print(\"|   1 - Somar              |\")\n",
    "  print(\"|   2 - Subtrai            |\")\n",
    "  print(\"|   3 - Multiplcação       |\")\n",
    "  print(\"|   4 - Dividir            |\")\n",
    "  print(\"|   0 - Sair               |\")\n",
    "  print(\"+ ======================== +\")\n",
    "\n",
    "  lista_num_cadastrado = [1, 2, 3, 4, 0]\n",
    "  op = int(input())\n",
    "  \n",
    "  if op not in lista_num_cadastrado:\n",
    "      print(\"Opção inválida! Por favor, escolha uma opção válida no menu de opões.\")\n",
    "      continue\n",
    "\n",
    "  if op==0:\n",
    "      break\n",
    "\n",
    "  n1 = int(input(\"Primeiro número: \"))\n",
    "  n2 = int(input(\"Segundo número: \"))\n",
    "\n",
    "  if op==1:\n",
    "      print(\"O resultado da soma é: \", soma(n1, n2))\n",
    "  elif op==2:\n",
    "      print(\"O resultado da subtrai é: \", subtrai(n1, n2))\n",
    "  elif op==3:\n",
    "      print(\"O resultado da multiplicação é: \", multiplica(n1, n2))\n",
    "  elif op==4:\n",
    "      print(\"O resultado da divide é: \", divide(n1, n2))"
   ]
  }
 ],
 "metadata": {
  "kernelspec": {
   "display_name": "Python 3",
   "language": "python",
   "name": "python3"
  },
  "language_info": {
   "codemirror_mode": {
    "name": "ipython",
    "version": 3
   },
   "file_extension": ".py",
   "mimetype": "text/x-python",
   "name": "python",
   "nbconvert_exporter": "python",
   "pygments_lexer": "ipython3",
   "version": "3.11.9"
  }
 },
 "nbformat": 4,
 "nbformat_minor": 2
}
