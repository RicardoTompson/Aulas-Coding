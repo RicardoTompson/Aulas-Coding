{
 "cells": [
  {
   "cell_type": "markdown",
   "metadata": {},
   "source": [
    "PRÁTICA CUMULATIVA (ENTREGA 18-05-24)"
   ]
  },
  {
   "cell_type": "markdown",
   "metadata": {},
   "source": [
    "1) Questão: Faça um Programa que verifique se uma leta digitada é vogal ou consoante."
   ]
  },
  {
   "cell_type": "code",
   "execution_count": 9,
   "metadata": {},
   "outputs": [
    {
     "name": "stdout",
     "output_type": "stream",
     "text": [
      "A Letra digitada: r - É Consoante\n",
      "A Letra digitada: e - É Vogal\n",
      "A Letra digitada: E - É Vogal\n",
      "A Letra digitada: G - É Consoante\n",
      "A Letra digitada: v - É Consoante\n"
     ]
    }
   ],
   "source": [
    "for letra in range (5):\n",
    "    letra = str(input('Digite uma letra'))\n",
    "    if letra == 'a' or letra == 'e' or letra == 'i' or letra == 'o' or letra == 'u' or letra == 'y' or letra == 'A' or letra == 'E' or letra == 'I' or letra == 'O' or letra == 'U' or letra == 'Y':\n",
    "        print('A Letra digitada:',letra, '- É Vogal')\n",
    "    else:\n",
    "        print('A Letra digitada:',letra, '- É Consoante')"
   ]
  },
  {
   "cell_type": "markdown",
   "metadata": {},
   "source": [
    "2) Questão: Faça um programa que pergunte o preço de três produtos e informe qual produto você deve comprar, sabendo que a decisão é sempre pelo mais barato."
   ]
  },
  {
   "cell_type": "code",
   "execution_count": 2,
   "metadata": {},
   "outputs": [
    {
     "name": "stdout",
     "output_type": "stream",
     "text": [
      "O produto 1 tem o menor preço R$ 3.0\n"
     ]
    }
   ],
   "source": [
    "produto1 = float(input('Digite o preço do 1° produto: '))\n",
    "produto2 = float(input('Digite o preço do 2° produto: '))\n",
    "produto3 = float(input('Digite o preço do 3° produto: '))\n",
    "\n",
    "if produto1 < produto2 and produto1 < produto3:\n",
    "    print('O produto 1 tem o menor preço R$', produto1, 'é o que você deve comprar')\n",
    "elif produto2 < produto1 and produto2 < produto3:\n",
    "    print('O produto 2 tem o menor preço R$', produto2, 'é o que você deve comprar')\n",
    "elif produto3 < produto1 and produto3 < produto2:\n",
    "    print('O produto 3 tem o menor preço R$', produto3, 'é o que você deve comprar')\n",
    "else:\n",
    "    print('Os produtos possuem preços iguais')"
   ]
  },
  {
   "cell_type": "markdown",
   "metadata": {},
   "source": [
    "3) Questão: Faça um programa que leia três números e monstre-os em ordem decrescente."
   ]
  },
  {
   "cell_type": "code",
   "execution_count": 20,
   "metadata": {},
   "outputs": [
    {
     "name": "stdout",
     "output_type": "stream",
     "text": [
      "9 - 7 - 3\n"
     ]
    }
   ],
   "source": [
    "numero1 = int(input('Digite o primeiro número: '))\n",
    "numero2 = int(input('Digite o segundo número: '))\n",
    "numero3 = int(input('Digite o terceiro número: '))\n",
    "\n",
    "if numero1 > numero2 and numero1 > numero3:\n",
    "    print(numero1,'-',numero2,'-',numero3)\n",
    "elif numero1 > numero2 and numero3 > numero2:\n",
    "    print(numero1,'-',numero3,'-',numero2)\n",
    "elif numero2 > numero3 and numero3 > numero1:\n",
    "    print(numero2,'-',numero3,'-',numero1)\n",
    "elif numero2 > numero3 and numero1 > numero3:\n",
    "    print(numero2,'-',numero1,'-',numero3)\n",
    "elif numero3 > numero2 and numero2 > numero1:\n",
    "    print(numero3,'-',numero2,'-',numero1)\n",
    "elif numero3 > numero2 and numero1 > numero2:\n",
    "    print(numero3,'-',numero1,'-', numero2)"
   ]
  },
  {
   "cell_type": "markdown",
   "metadata": {},
   "source": [
    "4) Questão: Faça um Programa que pergunte em que turno você estuda. Peça para digitar M-Matutino ou V-Vespetino ou N-Notuno. Imprima a mensagem \"Bom dia!\", \"Boa tarde!\", ou \"Boa Noite!\" ou \"Valor Inváldo!\", conforme o caso.  "
   ]
  },
  {
   "cell_type": "code",
   "execution_count": 18,
   "metadata": {},
   "outputs": [
    {
     "name": "stdout",
     "output_type": "stream",
     "text": [
      "Bom dia!\n"
     ]
    }
   ],
   "source": [
    "turno = str(input('Qual turno você estuda? Digite: M - Matutino, V - Vespetino, N - Noturno'))\n",
    "\n",
    "if turno == 'M' or turno == 'm':\n",
    "     print('Bom dia!')\n",
    "elif turno == 'V' or turno == 'v':\n",
    "     print('Boa tarde!')\n",
    "elif turno == 'N' or turno == 'v':\n",
    "     print('Boa Noite!')\n",
    "else:\n",
    "    print('Valor Inválido!')"
   ]
  },
  {
   "cell_type": "markdown",
   "metadata": {},
   "source": [
    "5) Questão: Faça um Programa que leia um número e exiba o dia correspondente da semana. (1-Domindo, 2-Segunda, etc). se for digitado outro valor deve retornar uma mensagem informando valor inválido."
   ]
  },
  {
   "cell_type": "code",
   "execution_count": 35,
   "metadata": {},
   "outputs": [
    {
     "name": "stdout",
     "output_type": "stream",
     "text": [
      "Valor Inválido!\n"
     ]
    }
   ],
   "source": [
    "diaDaSemana = int(input('Digite 1- Domingo, 2- Segunda-feira, 3- Terça-feira, 4- Quarta-feira, 5- Quinta-feira, 6- Sexta-feira e 7-Sábado'))\n",
    "if diaDaSemana == 1:\n",
    "    print('Domingo')\n",
    "elif diaDaSemana == 2:\n",
    "    print('Segunda-feira')\n",
    "elif diaDaSemana == 3:\n",
    "    print('Terça-feira')\n",
    "elif diaDaSemana == 4:\n",
    "    print('Quarta-feira')\n",
    "elif diaDaSemana == 5:\n",
    "    print('Quinta-feira')\n",
    "elif diaDaSemana == 6:\n",
    "    print('Sexta-feira')\n",
    "elif diaDaSemana == 7:\n",
    "    print('Sábado')\n",
    "else:\n",
    "    print('Valor Inválido!')"
   ]
  },
  {
   "cell_type": "markdown",
   "metadata": {},
   "source": [
    "5) 5.1 Questão: Faça um Programa que lê as duas notas parciais obtidas por um aluno numa disciplina ao longo de um semestre, e calcule a sua média. A atribuição de conceitos obedece às regras:\n",
    "\n",
    "Média de Aproveitamento           Conceito\n",
    "Entre 9.0 e 10.0                    A\n",
    "Entre 7.5 e 9.0                     B\n",
    "Entre 6.0 e 7.5                     C\n",
    "Entre 4.0 e 6.0                     D\n",
    "Entre 4.0 e zero                    E\n",
    "\n",
    "O Programa deve mostrar na tela as notas, média, o conceito correspondente e a mensagem \"APROVADO\" se o conceito for A, B ou C \"REPROVADO\" se o conceito for D ou E.\n"
   ]
  },
  {
   "cell_type": "code",
   "execution_count": 49,
   "metadata": {},
   "outputs": [
    {
     "name": "stdout",
     "output_type": "stream",
     "text": [
      "Primeira nota: 3.5 \n",
      "Segunda nota: 3.3 \n",
      "Média: 3.4 \n",
      "Conceito: E \n",
      "Resultado: Reprovado\n"
     ]
    }
   ],
   "source": [
    "Nota1 = float(input('Digite 1° Nota: '))\n",
    "Nota2 = float(input('Digite 2° Nota: '))\n",
    "\n",
    "media = (Nota1+Nota2)/2\n",
    "\n",
    "if media >= 9.0 and media <= 10:\n",
    "    print('Primeira nota:',Nota1, '\\nSegunda nota:', Nota2, '\\nMédia:', media, '\\nConceito: A','\\nResultado: Aprovado')\n",
    "elif media >= 7.5 and media < 9.0:\n",
    "    print('Primeira nota:',Nota1, '\\nSegunda nota:', Nota2, '\\nMédia:', media, '\\nConceito: B','\\nResultado: Aprovado')\n",
    "elif media >= 6.0 and media < 7.5:\n",
    "    print('Primeira nota:',Nota1, '\\nSegunda nota:', Nota2, '\\nMédia:', media, '\\nConceito: C','\\nResultado: Aprovado')\n",
    "elif media >= 4.0 and media < 6.0:\n",
    "    print('Primeira nota:',Nota1, '\\nSegunda nota:', Nota2, '\\nMédia:', media, '\\nConceito: D','\\nResultado: Reprovado')\n",
    "else:\n",
    "    print('Primeira nota:',Nota1, '\\nSegunda nota:', Nota2, '\\nMédia:', media, '\\nConceito: E','\\nResultado: Reprovado')"
   ]
  },
  {
   "cell_type": "markdown",
   "metadata": {},
   "source": [
    "6) Questão: Faça um Programa que peça um número correspondente a um determinado ano e em seguida informe se este ano é ou não bissexto."
   ]
  },
  {
   "cell_type": "code",
   "execution_count": 25,
   "metadata": {},
   "outputs": [
    {
     "name": "stdout",
     "output_type": "stream",
     "text": [
      "Ano: 2024 - É um Ano Bissexto\n"
     ]
    }
   ],
   "source": [
    "numAno = int(input('Digite um ano para saber se ele é Bissexto: '))\n",
    "\n",
    "if numAno %4==0 and numAno%100 !=0 or numAno%400 ==0:\n",
    "    print('Ano:',numAno,'- É um Ano Bissexto')\n",
    "else:\n",
    "    print('Ano:',numAno,'- Não é um ano Bissexto')"
   ]
  },
  {
   "cell_type": "markdown",
   "metadata": {},
   "source": [
    "7) Questão: Faça um Programa que leia 2 números e em seguida pergunte ao usuário qual operação básica (soma, subtração, multipllicação divisão, exponenciação) ele deseja realizar. O resultado da operção deve ser acompanhado de uma frase que diga se o número é PAR ou ÍMPAR; POSITIVO ou NEGATIVO; INTEIRO ou DECIMAL."
   ]
  },
  {
   "cell_type": "code",
   "execution_count": 8,
   "metadata": {},
   "outputs": [
    {
     "name": "stdout",
     "output_type": "stream",
     "text": [
      "Resultado:  0.0\n",
      "inteiro\n",
      "Par\n",
      "Nulo\n"
     ]
    }
   ],
   "source": [
    "valor1 = float(input('Digite o 1° valor: '))\n",
    "valor2 = float(input('Digite o 2° valor: '))\n",
    "operação = str(input('Qual operação a realizar? '))\n",
    "\n",
    "if operação == '+':\n",
    "    resultadOperaçao = valor1+valor2\n",
    "    print(\"Resultado: \", resultadOperaçao)\n",
    "elif operação == '-':\n",
    "    resultadOperaçao = valor1-valor2\n",
    "    print(\"Resultado: \", resultadOperaçao)\n",
    "elif operação == '/':\n",
    "    resultadOperaçao = valor1/valor2\n",
    "    print(\"Resultado: \", resultadOperaçao)\n",
    "elif operação == '*':\n",
    "    resultadOperaçao = valor1*valor2\n",
    "    print(\"Resultado: \", resultadOperaçao)\n",
    "elif operação == '**':\n",
    "    resultadOperaçao = valor1**valor2\n",
    "    print(\"Resultado: \", resultadOperaçao)\n",
    "\n",
    "\n",
    "if (resultadOperaçao // 1 == resultadOperaçao):\n",
    "    print(\"inteiro\")\n",
    "    if resultadOperaçao %2 == 0:\n",
    "        print(\"Par\")\n",
    "        if resultadOperaçao > 0:\n",
    "            print(\"Positivo\")\n",
    "        elif resultadOperaçao < 0:\n",
    "            print(\"Negativo\")\n",
    "        else:\n",
    "            print(\"Nulo\")\n",
    "    else:\n",
    "        print(\"Ímpar\")\n",
    "elif resultadOperaçao == 0:\n",
    "    print(\"\")\n",
    "else:\n",
    "    print(\"Decimal\")"
   ]
  },
  {
   "cell_type": "markdown",
   "metadata": {},
   "source": [
    "8) Faça um Programa que peça a idade e exiba a informação. Os valores aceitáveis devem estar entre 0 e 150. Valores fora desse limite não poderão ser aceitos. "
   ]
  },
  {
   "cell_type": "code",
   "execution_count": 17,
   "metadata": {},
   "outputs": [
    {
     "name": "stdout",
     "output_type": "stream",
     "text": [
      "180 Anos é uma idade fora do escopo.\n"
     ]
    }
   ],
   "source": [
    "idade = int(input('Qual a sua idade? '))\n",
    "\n",
    "if idade > 0 and idade < 150:\n",
    "    print('Você', idade, 'possui anos de idade.')\n",
    "else:\n",
    "    print(idade, 'Anos é uma idade fora do escopo.')"
   ]
  },
  {
   "cell_type": "markdown",
   "metadata": {},
   "source": [
    "9) Utilizando estruturas de repetição e lista (com ou sem .append), faça um programa que leia 5 números e informe a soma e a média dos números. "
   ]
  },
  {
   "cell_type": "code",
   "execution_count": 19,
   "metadata": {},
   "outputs": [
    {
     "name": "stdout",
     "output_type": "stream",
     "text": [
      "Soma dos números = 28.0 \n",
      "A média dos númeos = 5.6\n"
     ]
    }
   ],
   "source": [
    "soma = 0\n",
    "for num in range(5):\n",
    "    num = float(input('Digite os números desejados: '))\n",
    "    soma += num \n",
    "media = soma / 5\n",
    "print(f'Soma dos números ='{soma}, '\\nA média dos númeos =' {media})"
   ]
  },
  {
   "cell_type": "markdown",
   "metadata": {},
   "source": [
    "10) Faça um Programa que peça um número inteiro e determine se ele é ou não um número primo. Um número primo é aquele que divisível somente por ele mesmo e por 1."
   ]
  },
  {
   "cell_type": "code",
   "execution_count": 68,
   "metadata": {},
   "outputs": [
    {
     "name": "stdout",
     "output_type": "stream",
     "text": [
      "Seu numero primo = 23\n"
     ]
    }
   ],
   "source": [
    "contadora = 0\n",
    "numInt = int(input('Digite um número inteiro:'))\n",
    "\n",
    "for primo in range (1, numInt+1):\n",
    "    if numInt %primo == 0:\n",
    "        contadora +=1\n",
    "if contadora == 2:\n",
    "    print(f'Seu numero primo = {numInt}')\n",
    "else:\n",
    "    print(f'Esse número não é primo {numInt}')\n"
   ]
  },
  {
   "cell_type": "markdown",
   "metadata": {},
   "source": [
    "11) O Departamento Estadual de Metereologia lhe contratou para desenvolver um programa que leia 5 temperaturas, e informe ao final a menor e a maior temperatura informadas, bem como a média das temperaturas."
   ]
  },
  {
   "cell_type": "code",
   "execution_count": 77,
   "metadata": {},
   "outputs": [
    {
     "name": "stdout",
     "output_type": "stream",
     "text": [
      "22.0\n",
      "25.0\n",
      "27.0\n",
      "29.0\n",
      "30.0\n",
      "A tempreratura maior é 30.0\n",
      "A tempreratura menor é 22.0\n",
      "A média é igual 26.6\n"
     ]
    }
   ],
   "source": [
    "contadora = 0\n",
    "maior = 0\n",
    "menor= 0\n",
    "for clima in range (5):\n",
    "    temperatura = float(input('Digite a Temperatura'))\n",
    "    contadora+=temperatura\n",
    "    print(temperatura)\n",
    "    if clima == 0:\n",
    "        maior = temperatura\n",
    "        menor = temperatura\n",
    "    if temperatura > maior:\n",
    "        maior = temperatura \n",
    "    if temperatura < menor:\n",
    "        menor = temperatura\n",
    "media = contadora /5\n",
    "print(f'A tempreratura maior é {maior}')\n",
    "print(f'A tempreratura menor é {menor}')        \n",
    "print(f'A média é igual a {media}')\n",
    "\n"
   ]
  },
  {
   "cell_type": "markdown",
   "metadata": {},
   "source": [
    "12) Um banco concederá um crédito especial aos seus clientes, variáveis com o saldo médio no último ano. Faça um algaritmo que leia o saldo médio de um cliente e calcule o valor do crédito de acordo com a tabela abaixo. Mostre uma mensagem informando o saldo médio e o valor do crédito.\n",
    "\n",
    "Saldo médio                     Percentual\n",
    "de   0 a 200                   nenhum crédito\n",
    "de 201 a 400                   20% do valor do saldo médio\n",
    "de 401 a 600                   30% do valor do saldo médio\n",
    "acima de 601                   40% do valor do saldo médio"
   ]
  },
  {
   "cell_type": "code",
   "execution_count": 80,
   "metadata": {},
   "outputs": [
    {
     "name": "stdout",
     "output_type": "stream",
     "text": [
      "O saldo médio é igual a R$ 450.0 e o valor de crédito é R$ 135.0\n"
     ]
    }
   ],
   "source": [
    "total = 0\n",
    "\n",
    "saldoMedio = float(input('Digite o saldo medio'))\n",
    "if saldoMedio > 0 and saldoMedio <= 200:\n",
    "    print('Nenhum crédito')\n",
    "elif saldoMedio > 200 and saldoMedio <= 400:\n",
    "    total = (saldoMedio*0.20)\n",
    "    print(f'O saldo médio é igual a R$ {saldoMedio} e o valor de crédito é R$ {total}')\n",
    "elif saldoMedio > 400 and saldoMedio <= 600:\n",
    "    total = (saldoMedio*0.30)\n",
    "    print(f'O saldo médio é igual a R$ {saldoMedio} e o valor de crédito é R$ {total}')\n",
    "elif saldoMedio > 600:\n",
    "    total = (saldoMedio*0.40)\n",
    "    print(f'O saldo médio é igual a R$ {saldoMedio} e o valor de crédito é R$ {total}')"
   ]
  },
  {
   "cell_type": "markdown",
   "metadata": {},
   "source": [
    "13) Você foi contratado(a) para fazer um serviço para o INSS (Instituto Nacional do Seguro Social) do Brasil. O trabalho consiste em criar um programa que diga a pessoa o ano que ela poderá se aposentar. Você deve perguntar a pessoa, o nome, a idade e criar uma mensagem dizendo em qual ano ele irá se aposentar. Considere que todas as pessoas poderão se aposentar aos 65 anos de idade."
   ]
  },
  {
   "cell_type": "code",
   "execution_count": 94,
   "metadata": {},
   "outputs": [
    {
     "name": "stdout",
     "output_type": "stream",
     "text": [
      "Nome: Taules / Idade: 26\n",
      "Taules você irá se aposentar em 2063.\n"
     ]
    }
   ],
   "source": [
    "nome = input('Qual o seu nome? ')\n",
    "idade = int(input('Qual a sua idade? '))\n",
    "\n",
    "ano = str((2024 - idade) + 65)\n",
    "print(f'Nome: {nome} / Idade: {idade}')\n",
    "print(f'{nome} você irá se aposentar em {ano}.')"
   ]
  },
  {
   "cell_type": "markdown",
   "metadata": {},
   "source": [
    "14) Faça um Programa para cálculo de uma folha de pagamento, sabendo que os descontos são do Imposto de Renda, que depende do salário bruto (conforme tabela abaixo), 3% para o Sindicato e que o FGTS corresponde a 11% do salário bruto, mas não é descontado (é a empresa que deposita). O salário líquido corresponde ao salário bruto menos os descontos. O programa deverá pedir ao usuário o valor da sua hora e a quantidade de horas trabalhadas no mês.\n",
    "\n",
    "Desconto do IR:\n",
    "Salário Bruto até 2.112,00 (inclisive) - Insento;\n",
    "De 2.112,01 até 2.826,65 (inclisive)   - desconto de 7.5%;\n",
    "De 2.826,66 até 3.751,05 (inclisive)   - desconto de 15%;\n",
    "De 3.751,06 até 4.664,68 (inclisive)   - desconto de 22.5%;\n",
    "Acima de 4.664,68                      - desconto de 27.5%"
   ]
  },
  {
   "cell_type": "code",
   "execution_count": 95,
   "metadata": {},
   "outputs": [
    {
     "name": "stdout",
     "output_type": "stream",
     "text": [
      "========= FOLHA DE PAGAMENTO =========\n",
      "Seu salário bruto R$ 34400.0.\n",
      "(-) Sindicato (3%) R$ 1032.0.\n",
      "(-) Valor descontado do IR (27.5%) R$ 9176.2.\n",
      "Salário Liquido R$ 24191.8.\n"
     ]
    }
   ],
   "source": [
    "valorHora = float(input('Qual o valor da sua Hora? '))\n",
    "qtdhora = float(input('Qual a quantidades de horas trabalhadas? '))\n",
    "\n",
    "salarioBruto = valorHora*qtdhora \n",
    "\n",
    "if salarioBruto <= 2112.00:\n",
    "    salarioliquidoS = salarioBruto - (salarioBruto*0.03)\n",
    "    salarioliquidoIR = salarioliquidoS\n",
    "elif salarioBruto > 2112.00 and salarioBruto <= 2826.65:\n",
    "    x = 7.5\n",
    "    salarioliquidoS = salarioBruto - (salarioBruto*0.03)\n",
    "    salarioliquidoIR = salarioliquidoS - (salarioliquidoS*(x/100))\n",
    "elif salarioBruto > 2826.65 and salarioBruto <= 3751.05:\n",
    "    x = 15\n",
    "    salarioliquidoS = salarioBruto - (salarioBruto*0.03)\n",
    "    salarioliquidoIR =  salarioliquidoS - (salarioliquidoS*(x/100))\n",
    "elif salarioBruto > 3751.05 and salarioBruto <= 4664.68:\n",
    "    x = 22.5\n",
    "    salarioliquidoS = salarioBruto - (salarioBruto*0.03)\n",
    "    salarioliquidoIR = salarioliquidoS - (salarioliquidoS*(x/100))\n",
    "elif salarioBruto > 4664.68:\n",
    "    x = 27.5\n",
    "    salarioliquidoS = salarioBruto - (salarioBruto*0.03)\n",
    "    salarioliquidoIR =  salarioliquidoS - (salarioliquidoS*(x/100))\n",
    "else:\n",
    "    print(\"Informação Incorreta\")\n",
    "\n",
    "salarioSINDICATO = salarioBruto*(3/100)\n",
    "salarioLiquidoPX = (salarioBruto - salarioSINDICATO)\n",
    "salarioTOTAL = salarioLiquidoPX*(x/100)   \n",
    "salarioliquidoFinal = salarioliquidoIR\n",
    "\n",
    "print('========= FOLHA DE PAGAMENTO =========')\n",
    "print(f'Seu salário bruto R$ {salarioBruto}.')\n",
    "print(f'(-) Sindicato (3%) R$ {salarioSINDICATO}.')\n",
    "print(f'(-) Valor descontado do IR ({x}%) R$ {salarioTOTAL}.')\n",
    "print(f'Salário Liquido R$ {salarioliquidoIR}.')"
   ]
  }
 ],
 "metadata": {
  "kernelspec": {
   "display_name": "Python 3",
   "language": "python",
   "name": "python3"
  },
  "language_info": {
   "codemirror_mode": {
    "name": "ipython",
    "version": 3
   },
   "file_extension": ".py",
   "mimetype": "text/x-python",
   "name": "python",
   "nbconvert_exporter": "python",
   "pygments_lexer": "ipython3",
   "version": "3.11.9"
  }
 },
 "nbformat": 4,
 "nbformat_minor": 2
}
