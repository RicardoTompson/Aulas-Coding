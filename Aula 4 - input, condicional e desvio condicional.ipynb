{
 "cells": [
  {
   "cell_type": "code",
   "execution_count": 22,
   "metadata": {},
   "outputs": [],
   "source": [
    "valor1 = input('Digite um número inteiro: ')\n",
    "valor2 = input('Digite outro número inteiro: ')\n",
    "\n"
   ]
  },
  {
   "cell_type": "code",
   "execution_count": null,
   "metadata": {},
   "outputs": [
    {
     "name": "stdout",
     "output_type": "stream",
     "text": [
      "False\n",
      "False\n",
      "True\n",
      "False\n",
      "True\n"
     ]
    }
   ],
   "source": [
    "print(valor1 == valor2)\n",
    "print(valor1 > valor2)\n",
    "print(valor1 < valor2)\n",
    "print(valor1 >= valor2)\n",
    "print(valor1 <= valor2)"
   ]
  },
  {
   "cell_type": "code",
   "execution_count": null,
   "metadata": {},
   "outputs": [
    {
     "name": "stdout",
     "output_type": "stream",
     "text": [
      "False\n"
     ]
    }
   ],
   "source": [
    "#Usando o E (and)\n",
    "numero = 10\n",
    "print(numero>0 and numero <10)"
   ]
  },
  {
   "cell_type": "code",
   "execution_count": null,
   "metadata": {},
   "outputs": [
    {
     "name": "stdout",
     "output_type": "stream",
     "text": [
      "True\n"
     ]
    }
   ],
   "source": [
    "#Usando o OU (or)\n",
    "numero = 10\n",
    "print(numero>0 or numero <0)"
   ]
  },
  {
   "cell_type": "code",
   "execution_count": 10,
   "metadata": {},
   "outputs": [
    {
     "name": "stdout",
     "output_type": "stream",
     "text": [
      "Senha Correta.\n"
     ]
    }
   ],
   "source": [
    "#Desvio Condicional if, else if e else\n",
    "numeroA = int(input(\"Digite um valor: \"))\n",
    "\n",
    "if(numeroA == 10):\n",
    "    print(\"Senha Correta.\")\n",
    "else: \n",
    "    print(\"Senha Errada.\")\n",
    "\n"
   ]
  },
  {
   "cell_type": "code",
   "execution_count": 11,
   "metadata": {},
   "outputs": [
    {
     "name": "stdout",
     "output_type": "stream",
     "text": [
      "O número é PAR\n",
      "Fim\n"
     ]
    }
   ],
   "source": [
    "#DESAFIO 1 - aula dia 26/03/24\n",
    "\n",
    "numerob = int(input(\"Digite um valor inteiro: \"))\n",
    "\n",
    "if(numerob %2 == 0):\n",
    "    print(\"O número é PAR\")\n",
    "else:\n",
    "    print(\"O número é ÍMPAR\")\n",
    "\n",
    "print(\"Fim\")"
   ]
  },
  {
   "cell_type": "code",
   "execution_count": 20,
   "metadata": {},
   "outputs": [],
   "source": [
    "# Desvio Condicional OR parte 1 \n",
    "cupom = input('Digite o cupom: ')"
   ]
  },
  {
   "cell_type": "code",
   "execution_count": 21,
   "metadata": {},
   "outputs": [
    {
     "name": "stdout",
     "output_type": "stream",
     "text": [
      "você ganhou 10% de desconto\n"
     ]
    }
   ],
   "source": [
    "# Desvio Condicional OR parte 2\n",
    "if(cupom == 'aula1' or cupom =='aula2'):\n",
    "    print('você ganhou 10% de desconto')\n",
    "else:\n",
    "    print('cupom inválido')"
   ]
  },
  {
   "cell_type": "code",
   "execution_count": 22,
   "metadata": {},
   "outputs": [
    {
     "name": "stdout",
     "output_type": "stream",
     "text": [
      "Cupom válido! Você ganhou 15% de Desconto\n"
     ]
    }
   ],
   "source": [
    "#DESAFIO 2 aula dia 26/03/24\n",
    "cupom = input('Digite o cupom: ')\n",
    "\n",
    "if(cupom == 'aula1' or cupom =='aula2'):\n",
    "    print('Cupom válido! Você ganhou 15% de Desconto')\n",
    "else:\n",
    "    print('Você ganhou 5% de desconto')"
   ]
  },
  {
   "cell_type": "code",
   "execution_count": null,
   "metadata": {},
   "outputs": [],
   "source": [
    "#Condicional Composta ELIF\n",
    "\n",
    "if():\n",
    "    print()\n",
    "elif():\n",
    "    print()\n",
    "else:\n",
    "    print()"
   ]
  }
 ],
 "metadata": {
  "kernelspec": {
   "display_name": "Python 3",
   "language": "python",
   "name": "python3"
  },
  "language_info": {
   "codemirror_mode": {
    "name": "ipython",
    "version": 3
   },
   "file_extension": ".py",
   "mimetype": "text/x-python",
   "name": "python",
   "nbconvert_exporter": "python",
   "pygments_lexer": "ipython3",
   "version": "3.10.11"
  }
 },
 "nbformat": 4,
 "nbformat_minor": 2
}
