{
 "cells": [
  {
   "cell_type": "markdown",
   "metadata": {},
   "source": [
    "VIVA MARIANA"
   ]
  },
  {
   "cell_type": "code",
   "execution_count": 4,
   "metadata": {},
   "outputs": [
    {
     "name": "stdout",
     "output_type": "stream",
     "text": [
      "\n",
      "Mariana conta 1 \n",
      "Mariana conta 1: é 1, é 1, é! \n",
      "Ana, viva a Mariana, viva a Mariana\n",
      "\n",
      "Mariana conta 2\n",
      "Mariana conta 2 : é 1,  é 2,  é!\n",
      "Ana, viva a Mariana, viva a Mariana\n",
      "\n",
      "Mariana conta 3\n",
      "Mariana conta 3 : é 1,  é 2,  é 3,  é!\n",
      "Ana, viva a Mariana, viva a Mariana\n",
      "\n",
      "Mariana conta 4\n",
      "Mariana conta 4 : é 1,  é 2,  é 3,  é 4,  é!\n",
      "Ana, viva a Mariana, viva a Mariana\n",
      "\n",
      "Mariana conta 5\n",
      "Mariana conta 5 : é 1,  é 2,  é 3,  é 4,  é 5,  é!\n",
      "Ana, viva a Mariana, viva a Mariana\n",
      "\n",
      "Mariana conta 6\n",
      "Mariana conta 6 : é 1,  é 2,  é 3,  é 4,  é 5,  é 6,  é!\n",
      "Ana, viva a Mariana, viva a Mariana\n",
      "\n",
      "Mariana conta 7\n",
      "Mariana conta 7 : é 1,  é 2,  é 3,  é 4,  é 5,  é 6,  é 7,  é!\n",
      "Ana, viva a Mariana, viva a Mariana\n",
      "\n",
      "Mariana conta 8\n",
      "Mariana conta 8 : é 1,  é 2,  é 3,  é 4,  é 5,  é 6,  é 7,  é 8,  é!\n",
      "Ana, viva a Mariana, viva a Mariana\n",
      "\n",
      "Mariana conta 9\n",
      "Mariana conta 9 : é 1,  é 2,  é 3,  é 4,  é 5,  é 6,  é 7,  é 8,  é 9,  é!\n",
      "Ana, viva a Mariana, viva a Mariana\n",
      "\n",
      "Mariana conta 10\n",
      "Mariana conta 10 : é 1,  é 2,  é 3,  é 4,  é 5,  é 6,  é 7,  é 8,  é 9,  é 10,  é!\n",
      "Ana, viva a Mariana, viva a Mariana\n"
     ]
    }
   ],
   "source": [
    "for numero1 in range (1, 11): #Primeiro laço de repetição.\n",
    "    if numero1 == 1: #Primeira condição.\n",
    "        print('\\nMariana conta 1 \\nMariana conta 1: é 1, é 1, é! \\nAna, viva a Mariana, viva a Mariana') #Impressão específica do primeira. \n",
    "    else:\n",
    "        print('\\nMariana conta', numero1) # impressão de \"Mariana conta1: 'variável declarada'\".\n",
    "        print('Mariana conta',numero1,':', end = '') #impressão de \"Mariana conta1: 'Primeira variável declarada' \".\n",
    "        for numero2 in range (1, numero1+1): #Segundo laço de repetição. Com contadora somando o valor anterior.\n",
    "            print(f' é {numero2}, ', end = '') #impressão de \"Mariana conta1: 'Segundo variável declarada' \".\n",
    "        print(\" é!\") #impressão específica do \"é!\".\n",
    "        print('Ana, viva a Mariana, viva a Mariana') #impressão do texto final da música."
   ]
  },
  {
   "cell_type": "markdown",
   "metadata": {},
   "source": [
    "UM ELEFANTE INCOMODA  MUITA GENTE"
   ]
  },
  {
   "cell_type": "code",
   "execution_count": 3,
   "metadata": {},
   "outputs": [
    {
     "name": "stdout",
     "output_type": "stream",
     "text": [
      "1 Elefante incomoda muito gente\n",
      "2 Elefantes incomodam, incomodam,  muito mais\n",
      "3 Elefantes incomodam muito mais\n",
      "4 Elefantes incomodam, incomodam, incomodam, incomodam,  muito mais\n",
      "5 Elefantes incomodam muito mais\n",
      "6 Elefantes incomodam, incomodam, incomodam, incomodam, incomodam, incomodam,  muito mais\n",
      "7 Elefantes incomodam muito mais\n",
      "8 Elefantes incomodam, incomodam, incomodam, incomodam, incomodam, incomodam, incomodam, incomodam,  muito mais\n",
      "9 Elefantes incomodam muito mais\n",
      "10 Elefantes incomodam, incomodam, incomodam, incomodam, incomodam, incomodam, incomodam, incomodam, incomodam, incomodam,  muito mais\n",
      "10 Elefantes incomodam muito gente\n",
      "9 elefantes incomodam, incomodam, incomodam, incomodam, incomodam, incomodam, incomodam, incomodam, incomodam,  muito menos\n",
      "8 Elefantes incomodam muito gente\n",
      "7 elefantes incomodam, incomodam, incomodam, incomodam, incomodam, incomodam, incomodam,  muito menos\n",
      "6 Elefantes incomodam muito gente\n",
      "5 elefantes incomodam, incomodam, incomodam, incomodam, incomodam,  muito menos\n",
      "4 Elefantes incomodam muito gente\n",
      "3 elefantes incomodam, incomodam, incomodam,  muito menos\n",
      "2 Elefantes incomodam muito gente\n",
      "1 Elefante incomada muito gente\n"
     ]
    }
   ],
   "source": [
    "for elefanteMais in range(1, 11): #Primeiro laço de repetição.\n",
    "    if elefanteMais %2 == 0: #Primeira condição. Para número par com resto ZERO.\n",
    "        print(elefanteMais, 'Elefantes', elefanteMais*'incomodam, ', 'muito mais') #impressão do primeiro laço para os números pares, multiplicando a variável \"elefanteMais\" com o texto \"incomodam\".\n",
    "    else:\n",
    "        if elefanteMais == 1: # Segunda condição. Para número ímpares.\n",
    "            print(elefanteMais, 'Elefante incomoda muito gente') #impressão para os números ímpares.\n",
    "        else:\n",
    "            print(elefanteMais, 'Elefantes incomodam muito mais') #impressão para números pares.\n",
    "for elefanteMenos in range(10, 0, -1): \n",
    "    if elefanteMenos %2 == 1: #Terceira condição. Para número ímpares com resto igual 1.\n",
    "        if elefanteMenos == 1: #Quarta condição. Quando a variável \"elefanteMenos\" igual a 1. Gera a impressão de volta.\n",
    "            print(elefanteMenos, 'Elefante incomada muito gente') # impressão para números ímpares.\n",
    "        else:\n",
    "            print(elefanteMenos, 'elefantes', elefanteMenos*'incomodam, ', 'muito menos') #impressão do primeiro laço para os números ímpares, multiplicando a variável \"elefanteMais\" com o texto \"incomodam\".\n",
    "    else:\n",
    "        print(elefanteMenos, 'Elefantes incomodam muito gente') # impressão para números pares.\n"
   ]
  }
 ],
 "metadata": {
  "kernelspec": {
   "display_name": "Python 3",
   "language": "python",
   "name": "python3"
  },
  "language_info": {
   "codemirror_mode": {
    "name": "ipython",
    "version": 3
   },
   "file_extension": ".py",
   "mimetype": "text/x-python",
   "name": "python",
   "nbconvert_exporter": "python",
   "pygments_lexer": "ipython3",
   "version": "3.12.3"
  }
 },
 "nbformat": 4,
 "nbformat_minor": 2
}
