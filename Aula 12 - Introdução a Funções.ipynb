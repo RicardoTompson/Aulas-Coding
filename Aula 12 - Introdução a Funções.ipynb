{
 "cells": [
  {
   "cell_type": "markdown",
   "metadata": {},
   "source": [
    "INTRODUÇÃO A FUNÇÃO"
   ]
  },
  {
   "cell_type": "code",
   "execution_count": 2,
   "metadata": {},
   "outputs": [],
   "source": [
    "range(1, 5)\n",
    "def funcaoLeitura1():\n",
    "    for num in [1,2,3,4,5]:\n",
    "        print('Múmero ', num)"
   ]
  },
  {
   "cell_type": "code",
   "execution_count": 3,
   "metadata": {},
   "outputs": [
    {
     "name": "stdout",
     "output_type": "stream",
     "text": [
      "Múmero  1\n",
      "Múmero  2\n",
      "Múmero  3\n",
      "Múmero  4\n",
      "Múmero  5\n"
     ]
    }
   ],
   "source": [
    "funcaoLeitura1() # chamando a função."
   ]
  },
  {
   "cell_type": "code",
   "execution_count": 6,
   "metadata": {},
   "outputs": [],
   "source": [
    "# definindo um função.\n",
    "def funcaoLeitura2():\n",
    "    for num in (5):#\n",
    "        print('Múmero ', num)"
   ]
  },
  {
   "cell_type": "code",
   "execution_count": 5,
   "metadata": {},
   "outputs": [
    {
     "ename": "TypeError",
     "evalue": "'int' object is not iterable",
     "output_type": "error",
     "traceback": [
      "\u001b[1;31m---------------------------------------------------------------------------\u001b[0m",
      "\u001b[1;31mTypeError\u001b[0m                                 Traceback (most recent call last)",
      "Cell \u001b[1;32mIn [5], line 1\u001b[0m\n\u001b[1;32m----> 1\u001b[0m \u001b[43mfuncaoLeitura2\u001b[49m\u001b[43m(\u001b[49m\u001b[43m)\u001b[49m\n",
      "Cell \u001b[1;32mIn [4], line 2\u001b[0m, in \u001b[0;36mfuncaoLeitura2\u001b[1;34m()\u001b[0m\n\u001b[0;32m      1\u001b[0m \u001b[38;5;28;01mdef\u001b[39;00m \u001b[38;5;21mfuncaoLeitura2\u001b[39m():\n\u001b[1;32m----> 2\u001b[0m     \u001b[38;5;28;01mfor\u001b[39;00m num \u001b[38;5;129;01min\u001b[39;00m (\u001b[38;5;241m5\u001b[39m):\n\u001b[0;32m      3\u001b[0m         \u001b[38;5;28mprint\u001b[39m(\u001b[38;5;124m'\u001b[39m\u001b[38;5;124mMúmero \u001b[39m\u001b[38;5;124m'\u001b[39m, num)\n",
      "\u001b[1;31mTypeError\u001b[0m: 'int' object is not iterable"
     ]
    }
   ],
   "source": [
    "funcaoLeitura2()"
   ]
  },
  {
   "cell_type": "code",
   "execution_count": 7,
   "metadata": {},
   "outputs": [],
   "source": [
    "# função para somar dois números\n",
    "def addNum (n1, n2):\n",
    "    print('O primeiro número é: ', n1) #impressão.\n",
    "    print('O segundo  número é: ', n2)\n",
    "    print('A soma número é: ', n1+n2)"
   ]
  },
  {
   "cell_type": "code",
   "execution_count": null,
   "metadata": {},
   "outputs": [],
   "source": [
    "addNum(2, 3) # passagem de parâmetros."
   ]
  },
  {
   "cell_type": "code",
   "execution_count": 10,
   "metadata": {},
   "outputs": [
    {
     "ename": "TypeError",
     "evalue": "addNum() missing 2 required positional arguments: 'n1' and 'n2'",
     "output_type": "error",
     "traceback": [
      "\u001b[1;31m---------------------------------------------------------------------------\u001b[0m",
      "\u001b[1;31mTypeError\u001b[0m                                 Traceback (most recent call last)",
      "Cell \u001b[1;32mIn [10], line 1\u001b[0m\n\u001b[1;32m----> 1\u001b[0m \u001b[43maddNum\u001b[49m\u001b[43m(\u001b[49m\u001b[43m)\u001b[49m \u001b[38;5;66;03m# passagem de parâmetros.\u001b[39;00m\n",
      "\u001b[1;31mTypeError\u001b[0m: addNum() missing 2 required positional arguments: 'n1' and 'n2'"
     ]
    }
   ],
   "source": [
    "addNum() # exemplo sem o parâmetro.\n"
   ]
  },
  {
   "cell_type": "code",
   "execution_count": 9,
   "metadata": {},
   "outputs": [
    {
     "name": "stdout",
     "output_type": "stream",
     "text": [
      "O primeiro número é:  4\n",
      "O segundo  número é:  3\n",
      "A soma número é:  7\n"
     ]
    }
   ],
   "source": [
    "addNum(4, 3) # passagem de parâmetros."
   ]
  },
  {
   "cell_type": "code",
   "execution_count": 11,
   "metadata": {},
   "outputs": [
    {
     "name": "stdout",
     "output_type": "stream",
     "text": [
      "Variável da função Multiplicação:  20\n",
      "10\n"
     ]
    }
   ],
   "source": [
    "varGlobal = 10 #essa é uma variável global -- ELA ESTÁ FORA DA FUNÇÃO.\n",
    "def multiplicacao(num1, num2):\n",
    "    #apesar do mesmo nome, é uma variável local:\n",
    "    varGlobal = (num1*num2)\n",
    "    print(\"Variável da função Multiplicação: \", varGlobal)\n",
    "\n",
    "multiplicacao(5,4) # chamando a função.\n",
    "print(varGlobal) "
   ]
  },
  {
   "cell_type": "code",
   "execution_count": 14,
   "metadata": {},
   "outputs": [
    {
     "name": "stdout",
     "output_type": "stream",
     "text": [
      "Variável de função Multiplica:  20\n",
      "20\n"
     ]
    }
   ],
   "source": [
    "varGlobal = 10 #essa é uma variável global\n",
    "def multiplicacao(num1, num2):\n",
    "    varLocal = num1 * num2 # essa é a variável local.\n",
    "    print(\"Variável de função Multiplica: \", varLocal)\n",
    "    print(varLocal)\n",
    "\n",
    "# multiplicacao(5, 4) # chamando a função."
   ]
  },
  {
   "cell_type": "code",
   "execution_count": 15,
   "metadata": {},
   "outputs": [
    {
     "name": "stdout",
     "output_type": "stream",
     "text": [
      "Variável de função Multiplica:  20\n",
      "20\n"
     ]
    }
   ],
   "source": [
    "multiplicacao(5, 4) # chamando a função."
   ]
  },
  {
   "cell_type": "code",
   "execution_count": 16,
   "metadata": {},
   "outputs": [],
   "source": [
    "def separarTexto(texto):\n",
    "    return texto.split()"
   ]
  },
  {
   "cell_type": "code",
   "execution_count": 17,
   "metadata": {},
   "outputs": [
    {
     "data": {
      "text/plain": [
       "['Cibele', 'Maria', 'Suely']"
      ]
     },
     "execution_count": 17,
     "metadata": {},
     "output_type": "execute_result"
    }
   ],
   "source": [
    "separarTexto(\"Cibele Maria Suely\")"
   ]
  },
  {
   "cell_type": "code",
   "execution_count": 18,
   "metadata": {},
   "outputs": [],
   "source": [
    "# Quando não sabemos a quantidade de parâmetros basta usar \n",
    "def variosParametros (*parametros):\n",
    "    for n, item in enumerate (parametros): # laço de repetição\n",
    "        print(\"Parâmetros\",n, item)\n",
    "    return # retornar parametros"
   ]
  },
  {
   "cell_type": "code",
   "execution_count": 19,
   "metadata": {},
   "outputs": [
    {
     "name": "stdout",
     "output_type": "stream",
     "text": [
      "Parâmetros 0 Cibele\n",
      "Parâmetros 1 Suely\n",
      "Parâmetros 2 Giggio\n",
      "Parâmetros 3 Mandá\n",
      "Parâmetros 4 Luquinhas\n"
     ]
    }
   ],
   "source": [
    "variosParametros('Cibele', 'Suely', 'Giggio', 'Mandá','Luquinhas') # Chamando a função."
   ]
  },
  {
   "cell_type": "code",
   "execution_count": 23,
   "metadata": {},
   "outputs": [
    {
     "name": "stdout",
     "output_type": "stream",
     "text": [
      "Parâmetros 0 pitomba\n",
      "Parâmetros 1 jambo\n",
      "Parâmetros 2 strinels\n",
      "Parâmetros 3 umbu\n"
     ]
    }
   ],
   "source": [
    "variosParametros('pitomba', 'jambo', 'strinels', 'umbu')"
   ]
  },
  {
   "cell_type": "markdown",
   "metadata": {},
   "source": [
    "DESAFIO CALCULADORA"
   ]
  },
  {
   "cell_type": "code",
   "execution_count": null,
   "metadata": {},
   "outputs": [],
   "source": [
    "def soma(n1, n2): #função Soma\n",
    "    return n1+n2"
   ]
  },
  {
   "cell_type": "code",
   "execution_count": null,
   "metadata": {},
   "outputs": [],
   "source": [
    "def subtrai(n1, n2): #função Subtrai\n",
    "    return n1-n2"
   ]
  },
  {
   "cell_type": "code",
   "execution_count": null,
   "metadata": {},
   "outputs": [],
   "source": [
    "def multiplica(n1, n2): #função Multiplca\n",
    "    return n1*n2"
   ]
  },
  {
   "cell_type": "code",
   "execution_count": null,
   "metadata": {},
   "outputs": [],
   "source": [
    "def divide(n1, n2): #função Divide\n",
    "    return n1/n2"
   ]
  },
  {
   "cell_type": "code",
   "execution_count": 5,
   "metadata": {},
   "outputs": [
    {
     "name": "stdout",
     "output_type": "stream",
     "text": [
      "+ ======================== +\n",
      "| MENU DE OPEÇÕES          |\n",
      "|   1 - Somar              |\n",
      "|   2 - Subtrai            |\n",
      "|   3 - Multiplcação       |\n",
      "|   4 - Dividir            |\n",
      "|   0 - Sair               |\n",
      "+ ======================== +\n"
     ]
    },
    {
     "ename": "NameError",
     "evalue": "name 'soma' is not defined",
     "output_type": "error",
     "traceback": [
      "\u001b[1;31m---------------------------------------------------------------------------\u001b[0m",
      "\u001b[1;31mNameError\u001b[0m                                 Traceback (most recent call last)",
      "Cell \u001b[1;32mIn [5], line 19\u001b[0m\n\u001b[0;32m     16\u001b[0m n2 \u001b[38;5;241m=\u001b[39m \u001b[38;5;28mint\u001b[39m(\u001b[38;5;28minput\u001b[39m(\u001b[38;5;124m\"\u001b[39m\u001b[38;5;124mSegundo número: \u001b[39m\u001b[38;5;124m\"\u001b[39m))\n\u001b[0;32m     18\u001b[0m \u001b[38;5;28;01mif\u001b[39;00m op\u001b[38;5;241m==\u001b[39m\u001b[38;5;241m1\u001b[39m:\n\u001b[1;32m---> 19\u001b[0m     \u001b[38;5;28mprint\u001b[39m(\u001b[38;5;124m\"\u001b[39m\u001b[38;5;124mO resultado da soma é: \u001b[39m\u001b[38;5;124m\"\u001b[39m, \u001b[43msoma\u001b[49m(n1, n2))\n\u001b[0;32m     20\u001b[0m \u001b[38;5;28;01melif\u001b[39;00m op\u001b[38;5;241m==\u001b[39m\u001b[38;5;241m2\u001b[39m:\n\u001b[0;32m     21\u001b[0m     \u001b[38;5;28mprint\u001b[39m(\u001b[38;5;124m\"\u001b[39m\u001b[38;5;124mO resultado da subtrai é: \u001b[39m\u001b[38;5;124m\"\u001b[39m, subtrai(n1, n2))\n",
      "\u001b[1;31mNameError\u001b[0m: name 'soma' is not defined"
     ]
    }
   ],
   "source": [
    "while True:\n",
    "    print(\"+ ======================== +\")\n",
    "    print(\"| MENU DE OPEÇÕES          |\")\n",
    "    print(\"|   1 - Somar              |\")\n",
    "    print(\"|   2 - Subtrai            |\")\n",
    "    print(\"|   3 - Multiplcação       |\")\n",
    "    print(\"|   4 - Dividir            |\")\n",
    "    print(\"|   0 - Sair               |\")\n",
    "    print(\"|   n - PARAR               |\")\n",
    "    print(\"+ ======================== +\")\n",
    "\n",
    "    op = int(input())\n",
    "    if op==0:\n",
    "        break\n",
    "    \n",
    "    n1 = int(input(\"Primeiro número: \"))\n",
    "    n2 = int(input(\"Segundo número: \"))\n",
    "\n",
    "    if op==1:\n",
    "        print(\"O resultado da soma é: \", soma(n1, n2))\n",
    "    elif op==2:\n",
    "        print(\"O resultado da subtrai é: \", subtrai(n1, n2))\n",
    "    elif op==3:\n",
    "        print(\"O resultado da multiplicação é: \", multiplica(n1, n2))\n",
    "    elif op==4:\n",
    "        print(\"O resultado da divide é: \", divide(n1, n2))\n",
    "    else:\n",
    "        print('n')\n",
    "    "
   ]
  }
 ],
 "metadata": {
  "kernelspec": {
   "display_name": "Python 3",
   "language": "python",
   "name": "python3"
  },
  "language_info": {
   "codemirror_mode": {
    "name": "ipython",
    "version": 3
   },
   "file_extension": ".py",
   "mimetype": "text/x-python",
   "name": "python",
   "nbconvert_exporter": "python",
   "pygments_lexer": "ipython3",
   "version": "3.10.11"
  }
 },
 "nbformat": 4,
 "nbformat_minor": 2
}
