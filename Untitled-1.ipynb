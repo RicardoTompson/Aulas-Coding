{
 "cells": [
  {
   "cell_type": "code",
   "execution_count": 5,
   "metadata": {},
   "outputs": [
    {
     "name": "stdout",
     "output_type": "stream",
     "text": [
      "Olá Mundo!!!\n",
      "Meu nome é Ricardo e tenho graduação em Direito\n"
     ]
    }
   ],
   "source": [
    "print(\"Olá Mundo!!!\")\n",
    "print(\"Meu nome é Ricardo e tenho graduação em Direito\")"
   ]
  },
  {
   "cell_type": "code",
   "execution_count": 27,
   "metadata": {},
   "outputs": [],
   "source": [
    "nome1=\"Ricardo\"\n"
   ]
  },
  {
   "cell_type": "code",
   "execution_count": 28,
   "metadata": {},
   "outputs": [],
   "source": [
    "idade1=36"
   ]
  },
  {
   "cell_type": "code",
   "execution_count": 31,
   "metadata": {},
   "outputs": [
    {
     "name": "stdout",
     "output_type": "stream",
     "text": [
      "Bom dia, sou Ricardo e tenho 36 de idade. Estou gostando muito do curso de ADS.\n"
     ]
    }
   ],
   "source": [
    "print(\"Bom dia, sou\", nome1, \"e tenho\", idade1,\"de idade. Estou gostando muito do curso de ADS.\")"
   ]
  },
  {
   "cell_type": "code",
   "execution_count": 36,
   "metadata": {},
   "outputs": [
    {
     "name": "stdout",
     "output_type": "stream",
     "text": [
      "Ricardo 36 1.7 True\n"
     ]
    }
   ],
   "source": [
    "pessoa= \"Ricardo\"\n",
    "idade2=12\n",
    "altura=1.70\n",
    "desenvolvedor= True\n",
    "\n",
    "print(pessoa, idade, altura, desenvolvedor)\n"
   ]
  }
 ],
 "metadata": {
  "kernelspec": {
   "display_name": "venv",
   "language": "python",
   "name": "python3"
  },
  "language_info": {
   "codemirror_mode": {
    "name": "ipython",
    "version": 3
   },
   "file_extension": ".py",
   "mimetype": "text/x-python",
   "name": "python",
   "nbconvert_exporter": "python",
   "pygments_lexer": "ipython3",
   "version": "3.12.2"
  }
 },
 "nbformat": 4,
 "nbformat_minor": 2
}
