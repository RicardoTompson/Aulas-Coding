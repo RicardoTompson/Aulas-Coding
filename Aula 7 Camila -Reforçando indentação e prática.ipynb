{
 "cells": [
  {
   "cell_type": "markdown",
   "metadata": {},
   "source": [
    "6) Questão:"
   ]
  },
  {
   "cell_type": "code",
   "execution_count": 5,
   "metadata": {},
   "outputs": [
    {
     "name": "stdout",
     "output_type": "stream",
     "text": [
      "O valor do carro é 300.0\n"
     ]
    }
   ],
   "source": [
    "#Peça ao usuário o valor do ano Ano do carro.\n",
    "noAnoDoCarro = int(input(\"Qual o ano do carro? \"))\n",
    "#Peça ao usuário o valor do  carro.\n",
    "valorDoCarro = float(input(\"Qual o valor do carro? \"))\n",
    "\n",
    "#taxa = 1/100 - Caso o usuário queira criar uma variável extra.\n",
    "#imposto = 1.5/100 - Caso o usuário queira criar uma variável extra.\n",
    "\n",
    "if(noAnoDoCarro < 1990):\n",
    "    print(\"O valor do carro é\", 1/100 * valorDoCarro)\n",
    "else:\n",
    "    print(\"O valor do carro é\", 1.5/100 * valorDoCarro)"
   ]
  },
  {
   "cell_type": "markdown",
   "metadata": {},
   "source": [
    "7) Questão:"
   ]
  },
  {
   "cell_type": "code",
   "execution_count": 10,
   "metadata": {},
   "outputs": [
    {
     "name": "stdout",
     "output_type": "stream",
     "text": [
      "\n",
      "Salário atual: 5000.0 \n",
      "O novo salário é: 6500.0 \n",
      "A diferença: 1500.0\n"
     ]
    }
   ],
   "source": [
    "#Peça ao usuário o cargo selecionado.\n",
    "codigoCargoSelecionado = int(input('Qual o código cargo do selecionado? '))\n",
    "#Peça ao usuário o valor do salário.\n",
    "valorDoSalario = float(input('Qual o valor do salário? '))\n",
    "\n",
    "#Condione as possibilidades\n",
    "if (codigoCargoSelecionado==101):\n",
    "    print('\\nSalário atual:',valorDoSalario,'\\nO novo salário é:',(valorDoSalario*10/100)+valorDoSalario,'\\nA diferença:', valorDoSalario+((valorDoSalario*10/100)-valorDoSalario))\n",
    "\n",
    "elif(codigoCargoSelecionado==102):\n",
    "    print('\\nSalário atual:',valorDoSalario,'\\nO novo salário é:',(valorDoSalario*20/100)+valorDoSalario,'\\nA diferença:', valorDoSalario+((valorDoSalario*20/100)-valorDoSalario))\n",
    "elif(codigoCargoSelecionado==103):\n",
    "    print('\\nSalário atual:',valorDoSalario,'\\nO novo salário é:',(valorDoSalario*30/100)+valorDoSalario,'\\nA diferença:', valorDoSalario+((valorDoSalario*30/100)-valorDoSalario))\n",
    "else:\n",
    "    print('\\nSalário atual:',valorDoSalario,'\\nO novo salário é:',(valorDoSalario*40/100)+valorDoSalario,'\\nA diferença:', valorDoSalario+((valorDoSalario*40/100)-valorDoSalario))"
   ]
  }
 ],
 "metadata": {
  "kernelspec": {
   "display_name": "Python 3",
   "language": "python",
   "name": "python3"
  },
  "language_info": {
   "codemirror_mode": {
    "name": "ipython",
    "version": 3
   },
   "file_extension": ".py",
   "mimetype": "text/x-python",
   "name": "python",
   "nbconvert_exporter": "python",
   "pygments_lexer": "ipython3",
   "version": "3.10.11"
  }
 },
 "nbformat": 4,
 "nbformat_minor": 2
}
